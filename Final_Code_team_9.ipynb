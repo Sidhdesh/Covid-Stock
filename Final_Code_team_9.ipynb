{
  "nbformat": 4,
  "nbformat_minor": 0,
  "metadata": {
    "colab": {
      "name": "Final Code team-9.ipynb",
      "provenance": [],
      "collapsed_sections": [
        "j88EySx80lwf",
        "VR1exdKXAKsb"
      ],
      "toc_visible": true
    },
    "kernelspec": {
      "name": "python3",
      "display_name": "Python 3"
    }
  },
  "cells": [
    {
      "cell_type": "markdown",
      "metadata": {
        "id": "j88EySx80lwf",
        "colab_type": "text"
      },
      "source": [
        "# Mounting Google Drive "
      ]
    },
    {
      "cell_type": "code",
      "metadata": {
        "id": "ymoQ6TMJv7pK",
        "colab_type": "code",
        "colab": {
          "base_uri": "https://localhost:8080/",
          "height": 524
        },
        "outputId": "d5bab91e-4b48-4b7e-caa2-5f4352cc01b6"
      },
      "source": [
        "from google.colab import drive\n",
        "drive.mount('/content/drive')"
      ],
      "execution_count": null,
      "outputs": [
        {
          "output_type": "error",
          "ename": "KeyboardInterrupt",
          "evalue": "ignored",
          "traceback": [
            "\u001b[0;31m---------------------------------------------------------------------------\u001b[0m",
            "\u001b[0;31mKeyboardInterrupt\u001b[0m                         Traceback (most recent call last)",
            "\u001b[0;32m/usr/local/lib/python3.6/dist-packages/ipykernel/kernelbase.py\u001b[0m in \u001b[0;36m_input_request\u001b[0;34m(self, prompt, ident, parent, password)\u001b[0m\n\u001b[1;32m    728\u001b[0m             \u001b[0;32mtry\u001b[0m\u001b[0;34m:\u001b[0m\u001b[0;34m\u001b[0m\u001b[0;34m\u001b[0m\u001b[0m\n\u001b[0;32m--> 729\u001b[0;31m                 \u001b[0mident\u001b[0m\u001b[0;34m,\u001b[0m \u001b[0mreply\u001b[0m \u001b[0;34m=\u001b[0m \u001b[0mself\u001b[0m\u001b[0;34m.\u001b[0m\u001b[0msession\u001b[0m\u001b[0;34m.\u001b[0m\u001b[0mrecv\u001b[0m\u001b[0;34m(\u001b[0m\u001b[0mself\u001b[0m\u001b[0;34m.\u001b[0m\u001b[0mstdin_socket\u001b[0m\u001b[0;34m,\u001b[0m \u001b[0;36m0\u001b[0m\u001b[0;34m)\u001b[0m\u001b[0;34m\u001b[0m\u001b[0;34m\u001b[0m\u001b[0m\n\u001b[0m\u001b[1;32m    730\u001b[0m             \u001b[0;32mexcept\u001b[0m \u001b[0mException\u001b[0m\u001b[0;34m:\u001b[0m\u001b[0;34m\u001b[0m\u001b[0;34m\u001b[0m\u001b[0m\n",
            "\u001b[0;32m/usr/local/lib/python3.6/dist-packages/jupyter_client/session.py\u001b[0m in \u001b[0;36mrecv\u001b[0;34m(self, socket, mode, content, copy)\u001b[0m\n\u001b[1;32m    802\u001b[0m         \u001b[0;32mtry\u001b[0m\u001b[0;34m:\u001b[0m\u001b[0;34m\u001b[0m\u001b[0;34m\u001b[0m\u001b[0m\n\u001b[0;32m--> 803\u001b[0;31m             \u001b[0mmsg_list\u001b[0m \u001b[0;34m=\u001b[0m \u001b[0msocket\u001b[0m\u001b[0;34m.\u001b[0m\u001b[0mrecv_multipart\u001b[0m\u001b[0;34m(\u001b[0m\u001b[0mmode\u001b[0m\u001b[0;34m,\u001b[0m \u001b[0mcopy\u001b[0m\u001b[0;34m=\u001b[0m\u001b[0mcopy\u001b[0m\u001b[0;34m)\u001b[0m\u001b[0;34m\u001b[0m\u001b[0;34m\u001b[0m\u001b[0m\n\u001b[0m\u001b[1;32m    804\u001b[0m         \u001b[0;32mexcept\u001b[0m \u001b[0mzmq\u001b[0m\u001b[0;34m.\u001b[0m\u001b[0mZMQError\u001b[0m \u001b[0;32mas\u001b[0m \u001b[0me\u001b[0m\u001b[0;34m:\u001b[0m\u001b[0;34m\u001b[0m\u001b[0;34m\u001b[0m\u001b[0m\n",
            "\u001b[0;32m/usr/local/lib/python3.6/dist-packages/zmq/sugar/socket.py\u001b[0m in \u001b[0;36mrecv_multipart\u001b[0;34m(self, flags, copy, track)\u001b[0m\n\u001b[1;32m    474\u001b[0m         \"\"\"\n\u001b[0;32m--> 475\u001b[0;31m         \u001b[0mparts\u001b[0m \u001b[0;34m=\u001b[0m \u001b[0;34m[\u001b[0m\u001b[0mself\u001b[0m\u001b[0;34m.\u001b[0m\u001b[0mrecv\u001b[0m\u001b[0;34m(\u001b[0m\u001b[0mflags\u001b[0m\u001b[0;34m,\u001b[0m \u001b[0mcopy\u001b[0m\u001b[0;34m=\u001b[0m\u001b[0mcopy\u001b[0m\u001b[0;34m,\u001b[0m \u001b[0mtrack\u001b[0m\u001b[0;34m=\u001b[0m\u001b[0mtrack\u001b[0m\u001b[0;34m)\u001b[0m\u001b[0;34m]\u001b[0m\u001b[0;34m\u001b[0m\u001b[0;34m\u001b[0m\u001b[0m\n\u001b[0m\u001b[1;32m    476\u001b[0m         \u001b[0;31m# have first part already, only loop while more to receive\u001b[0m\u001b[0;34m\u001b[0m\u001b[0;34m\u001b[0m\u001b[0;34m\u001b[0m\u001b[0m\n",
            "\u001b[0;32mzmq/backend/cython/socket.pyx\u001b[0m in \u001b[0;36mzmq.backend.cython.socket.Socket.recv\u001b[0;34m()\u001b[0m\n",
            "\u001b[0;32mzmq/backend/cython/socket.pyx\u001b[0m in \u001b[0;36mzmq.backend.cython.socket.Socket.recv\u001b[0;34m()\u001b[0m\n",
            "\u001b[0;32mzmq/backend/cython/socket.pyx\u001b[0m in \u001b[0;36mzmq.backend.cython.socket._recv_copy\u001b[0;34m()\u001b[0m\n",
            "\u001b[0;32m/usr/local/lib/python3.6/dist-packages/zmq/backend/cython/checkrc.pxd\u001b[0m in \u001b[0;36mzmq.backend.cython.checkrc._check_rc\u001b[0;34m()\u001b[0m\n",
            "\u001b[0;31mKeyboardInterrupt\u001b[0m: ",
            "\nDuring handling of the above exception, another exception occurred:\n",
            "\u001b[0;31mKeyboardInterrupt\u001b[0m                         Traceback (most recent call last)",
            "\u001b[0;32m<ipython-input-7-d5df0069828e>\u001b[0m in \u001b[0;36m<module>\u001b[0;34m()\u001b[0m\n\u001b[1;32m      1\u001b[0m \u001b[0;32mfrom\u001b[0m \u001b[0mgoogle\u001b[0m\u001b[0;34m.\u001b[0m\u001b[0mcolab\u001b[0m \u001b[0;32mimport\u001b[0m \u001b[0mdrive\u001b[0m\u001b[0;34m\u001b[0m\u001b[0;34m\u001b[0m\u001b[0m\n\u001b[0;32m----> 2\u001b[0;31m \u001b[0mdrive\u001b[0m\u001b[0;34m.\u001b[0m\u001b[0mmount\u001b[0m\u001b[0;34m(\u001b[0m\u001b[0;34m'/content/drive'\u001b[0m\u001b[0;34m)\u001b[0m\u001b[0;34m\u001b[0m\u001b[0;34m\u001b[0m\u001b[0m\n\u001b[0m",
            "\u001b[0;32m/usr/local/lib/python3.6/dist-packages/google/colab/drive.py\u001b[0m in \u001b[0;36mmount\u001b[0;34m(mountpoint, force_remount, timeout_ms, use_metadata_server)\u001b[0m\n\u001b[1;32m    240\u001b[0m       \u001b[0mauth_prompt\u001b[0m \u001b[0;34m=\u001b[0m \u001b[0md\u001b[0m\u001b[0;34m.\u001b[0m\u001b[0mmatch\u001b[0m\u001b[0;34m.\u001b[0m\u001b[0mgroup\u001b[0m\u001b[0;34m(\u001b[0m\u001b[0;36m1\u001b[0m\u001b[0;34m)\u001b[0m \u001b[0;34m+\u001b[0m \u001b[0;34m'\\nEnter your authorization code:\\n'\u001b[0m\u001b[0;34m\u001b[0m\u001b[0;34m\u001b[0m\u001b[0m\n\u001b[1;32m    241\u001b[0m       \u001b[0;32mwith\u001b[0m \u001b[0mopen\u001b[0m\u001b[0;34m(\u001b[0m\u001b[0mfifo\u001b[0m\u001b[0;34m,\u001b[0m \u001b[0;34m'w'\u001b[0m\u001b[0;34m)\u001b[0m \u001b[0;32mas\u001b[0m \u001b[0mfifo_file\u001b[0m\u001b[0;34m:\u001b[0m\u001b[0;34m\u001b[0m\u001b[0;34m\u001b[0m\u001b[0m\n\u001b[0;32m--> 242\u001b[0;31m         \u001b[0mfifo_file\u001b[0m\u001b[0;34m.\u001b[0m\u001b[0mwrite\u001b[0m\u001b[0;34m(\u001b[0m\u001b[0m_getpass\u001b[0m\u001b[0;34m.\u001b[0m\u001b[0mgetpass\u001b[0m\u001b[0;34m(\u001b[0m\u001b[0mauth_prompt\u001b[0m\u001b[0;34m)\u001b[0m \u001b[0;34m+\u001b[0m \u001b[0;34m'\\n'\u001b[0m\u001b[0;34m)\u001b[0m\u001b[0;34m\u001b[0m\u001b[0;34m\u001b[0m\u001b[0m\n\u001b[0m\u001b[1;32m    243\u001b[0m       \u001b[0mwrote_to_fifo\u001b[0m \u001b[0;34m=\u001b[0m \u001b[0;32mTrue\u001b[0m\u001b[0;34m\u001b[0m\u001b[0;34m\u001b[0m\u001b[0m\n\u001b[1;32m    244\u001b[0m   \u001b[0;32mif\u001b[0m \u001b[0;32mnot\u001b[0m \u001b[0mwrote_to_fifo\u001b[0m\u001b[0;34m:\u001b[0m\u001b[0;34m\u001b[0m\u001b[0;34m\u001b[0m\u001b[0m\n",
            "\u001b[0;32m/usr/local/lib/python3.6/dist-packages/ipykernel/kernelbase.py\u001b[0m in \u001b[0;36mgetpass\u001b[0;34m(self, prompt, stream)\u001b[0m\n\u001b[1;32m    685\u001b[0m             \u001b[0mself\u001b[0m\u001b[0;34m.\u001b[0m\u001b[0m_parent_ident\u001b[0m\u001b[0;34m,\u001b[0m\u001b[0;34m\u001b[0m\u001b[0;34m\u001b[0m\u001b[0m\n\u001b[1;32m    686\u001b[0m             \u001b[0mself\u001b[0m\u001b[0;34m.\u001b[0m\u001b[0m_parent_header\u001b[0m\u001b[0;34m,\u001b[0m\u001b[0;34m\u001b[0m\u001b[0;34m\u001b[0m\u001b[0m\n\u001b[0;32m--> 687\u001b[0;31m             \u001b[0mpassword\u001b[0m\u001b[0;34m=\u001b[0m\u001b[0;32mTrue\u001b[0m\u001b[0;34m,\u001b[0m\u001b[0;34m\u001b[0m\u001b[0;34m\u001b[0m\u001b[0m\n\u001b[0m\u001b[1;32m    688\u001b[0m         )\n\u001b[1;32m    689\u001b[0m \u001b[0;34m\u001b[0m\u001b[0m\n",
            "\u001b[0;32m/usr/local/lib/python3.6/dist-packages/ipykernel/kernelbase.py\u001b[0m in \u001b[0;36m_input_request\u001b[0;34m(self, prompt, ident, parent, password)\u001b[0m\n\u001b[1;32m    732\u001b[0m             \u001b[0;32mexcept\u001b[0m \u001b[0mKeyboardInterrupt\u001b[0m\u001b[0;34m:\u001b[0m\u001b[0;34m\u001b[0m\u001b[0;34m\u001b[0m\u001b[0m\n\u001b[1;32m    733\u001b[0m                 \u001b[0;31m# re-raise KeyboardInterrupt, to truncate traceback\u001b[0m\u001b[0;34m\u001b[0m\u001b[0;34m\u001b[0m\u001b[0;34m\u001b[0m\u001b[0m\n\u001b[0;32m--> 734\u001b[0;31m                 \u001b[0;32mraise\u001b[0m \u001b[0mKeyboardInterrupt\u001b[0m\u001b[0;34m\u001b[0m\u001b[0;34m\u001b[0m\u001b[0m\n\u001b[0m\u001b[1;32m    735\u001b[0m             \u001b[0;32melse\u001b[0m\u001b[0;34m:\u001b[0m\u001b[0;34m\u001b[0m\u001b[0;34m\u001b[0m\u001b[0m\n\u001b[1;32m    736\u001b[0m                 \u001b[0;32mbreak\u001b[0m\u001b[0;34m\u001b[0m\u001b[0;34m\u001b[0m\u001b[0m\n",
            "\u001b[0;31mKeyboardInterrupt\u001b[0m: "
          ]
        }
      ]
    },
    {
      "cell_type": "code",
      "metadata": {
        "id": "ZZY2NrFQwHrS",
        "colab_type": "code",
        "colab": {}
      },
      "source": [
        "import numpy as np\n",
        "import pandas as pd\n",
        "pd.core.common.is_list_like = pd.api.types.is_list_like\n",
        "import matplotlib.pyplot as plt\n",
        "import pandas_datareader as pdr\n",
        "import datetime \n",
        "from sklearn.preprocessing import MinMaxScaler\n",
        "import seaborn as sns\n",
        "import os\n",
        "% matplotlib inline\n"
      ],
      "execution_count": null,
      "outputs": []
    },
    {
      "cell_type": "markdown",
      "metadata": {
        "id": "xARKGple0b2k",
        "colab_type": "text"
      },
      "source": [
        "# Creating Directories to input the results"
      ]
    },
    {
      "cell_type": "code",
      "metadata": {
        "id": "E6eRJrEJwKdu",
        "colab_type": "code",
        "colab": {}
      },
      "source": [
        "#path='/content/drive/Shared drives/OPIM5512 - Data Sci. w Python/Data/Final Results'\n",
        "#try:\n",
        "  #os.mkdir(path)\n",
        "#except OSError:\n",
        "  #print (\"Creation of the directory %s failed\" % path)\n",
        "#else:\n",
        "  #print (\"Successfully created the directory %s \" % path)"
      ],
      "execution_count": null,
      "outputs": []
    },
    {
      "cell_type": "markdown",
      "metadata": {
        "id": "VbadeF0R1xnH",
        "colab_type": "text"
      },
      "source": [
        "# Installing  Yahoo Stock Information database package"
      ]
    },
    {
      "cell_type": "code",
      "metadata": {
        "id": "ldABXc_71usX",
        "colab_type": "code",
        "colab": {}
      },
      "source": [
        "#%pip install fix_yahoo_finance "
      ],
      "execution_count": null,
      "outputs": []
    },
    {
      "cell_type": "code",
      "metadata": {
        "id": "prVA_3Zr1wvx",
        "colab_type": "code",
        "colab": {
          "base_uri": "https://localhost:8080/",
          "height": 50
        },
        "outputId": "52ce4fe6-f31c-419e-82de-02e30ce5ed21"
      },
      "source": [
        "import fix_yahoo_finance as fyf\n",
        "from pandas_datareader import data as pdr\n",
        "fyf.pdr_override()"
      ],
      "execution_count": null,
      "outputs": [
        {
          "output_type": "stream",
          "text": [
            "/usr/local/lib/python3.6/dist-packages/pandas_datareader/compat/__init__.py:7: FutureWarning: pandas.util.testing is deprecated. Use the functions in the public API at pandas.testing instead.\n",
            "  from pandas.util.testing import assert_frame_equal\n"
          ],
          "name": "stderr"
        }
      ]
    },
    {
      "cell_type": "markdown",
      "metadata": {
        "id": "VR1exdKXAKsb",
        "colab_type": "text"
      },
      "source": [
        "# Filtering Stock tickers "
      ]
    },
    {
      "cell_type": "code",
      "metadata": {
        "id": "__vmJZcg2BYN",
        "colab_type": "code",
        "colab": {}
      },
      "source": [
        "T=['VGT','XLK','IYW','SKYY','FTEC']\n",
        "CD=['XLY','VCR','FXD','IBUY','XRT']\n",
        "HC=['XLV','VHT','IBB','IHI','FBT']\n",
        "F=['VFH','FNCL','XLF','IYF','FAS']\n",
        "U=['FUTY','XLU','VPU','IDU','FXU']\n",
        "CS=['XLP','VDC','FSTA','KXI','RHS']\n",
        "web='https://screener.fidelity.com/ftgw/etf/goto/snapshot/snapshot.jhtml?symbols='\n"
      ],
      "execution_count": null,
      "outputs": []
    },
    {
      "cell_type": "code",
      "metadata": {
        "id": "xrUa4QXo2GZN",
        "colab_type": "code",
        "colab": {
          "base_uri": "https://localhost:8080/",
          "height": 137
        },
        "outputId": "29401d14-d653-4279-a8f2-4bc718d556d6"
      },
      "source": [
        "table=pd.DataFrame()\n",
        "for x in T:\n",
        "  ETFpayload = pd.read_html(web+x)\n",
        "  table=pd.concat([table,ETFpayload[17].loc[0:2,0]],axis=0)\n",
        "t=table[table.duplicated(keep=False)]\n",
        "t=t.drop_duplicates()\n",
        "if len(t)>3:\n",
        "  t=t.iloc[0:3]\n",
        "for x in range(3):\n",
        "  t.iloc[x,0]=''.join(filter(str.isalpha,t.iloc[x,0]))\n",
        "t"
      ],
      "execution_count": null,
      "outputs": [
        {
          "output_type": "execute_result",
          "data": {
            "text/html": [
              "<div>\n",
              "<style scoped>\n",
              "    .dataframe tbody tr th:only-of-type {\n",
              "        vertical-align: middle;\n",
              "    }\n",
              "\n",
              "    .dataframe tbody tr th {\n",
              "        vertical-align: top;\n",
              "    }\n",
              "\n",
              "    .dataframe thead th {\n",
              "        text-align: right;\n",
              "    }\n",
              "</style>\n",
              "<table border=\"1\" class=\"dataframe\">\n",
              "  <thead>\n",
              "    <tr style=\"text-align: right;\">\n",
              "      <th></th>\n",
              "      <th>0</th>\n",
              "    </tr>\n",
              "  </thead>\n",
              "  <tbody>\n",
              "    <tr>\n",
              "      <th>0</th>\n",
              "      <td>AAPL</td>\n",
              "    </tr>\n",
              "    <tr>\n",
              "      <th>1</th>\n",
              "      <td>MSFT</td>\n",
              "    </tr>\n",
              "    <tr>\n",
              "      <th>2</th>\n",
              "      <td>V</td>\n",
              "    </tr>\n",
              "  </tbody>\n",
              "</table>\n",
              "</div>"
            ],
            "text/plain": [
              "      0\n",
              "0  AAPL\n",
              "1  MSFT\n",
              "2     V"
            ]
          },
          "metadata": {
            "tags": []
          },
          "execution_count": 12
        }
      ]
    },
    {
      "cell_type": "code",
      "metadata": {
        "id": "DWi3RQ923wC4",
        "colab_type": "code",
        "colab": {
          "base_uri": "https://localhost:8080/",
          "height": 137
        },
        "outputId": "e123c9a3-dc30-4123-db63-04900a8da8f5"
      },
      "source": [
        "table=pd.DataFrame()\n",
        "for x in CD:\n",
        "  ETFpayload = pd.read_html(web+x)\n",
        "  table=pd.concat([table,ETFpayload[17].loc[0:2,0]],axis=0)\n",
        "cd=table[table.duplicated(keep=False)]\n",
        "cd=cd.drop_duplicates()\n",
        "if len(cd)>3:\n",
        "  cd=cd.iloc[0:3]\n",
        "for x in range(3):\n",
        "  cd.iloc[x,0]=''.join(filter(str.isalpha,cd.iloc[x,0]))\n",
        "cd"
      ],
      "execution_count": null,
      "outputs": [
        {
          "output_type": "execute_result",
          "data": {
            "text/html": [
              "<div>\n",
              "<style scoped>\n",
              "    .dataframe tbody tr th:only-of-type {\n",
              "        vertical-align: middle;\n",
              "    }\n",
              "\n",
              "    .dataframe tbody tr th {\n",
              "        vertical-align: top;\n",
              "    }\n",
              "\n",
              "    .dataframe thead th {\n",
              "        text-align: right;\n",
              "    }\n",
              "</style>\n",
              "<table border=\"1\" class=\"dataframe\">\n",
              "  <thead>\n",
              "    <tr style=\"text-align: right;\">\n",
              "      <th></th>\n",
              "      <th>0</th>\n",
              "    </tr>\n",
              "  </thead>\n",
              "  <tbody>\n",
              "    <tr>\n",
              "      <th>0</th>\n",
              "      <td>AMZN</td>\n",
              "    </tr>\n",
              "    <tr>\n",
              "      <th>1</th>\n",
              "      <td>HD</td>\n",
              "    </tr>\n",
              "    <tr>\n",
              "      <th>2</th>\n",
              "      <td>TSLA</td>\n",
              "    </tr>\n",
              "  </tbody>\n",
              "</table>\n",
              "</div>"
            ],
            "text/plain": [
              "      0\n",
              "0  AMZN\n",
              "1    HD\n",
              "2  TSLA"
            ]
          },
          "metadata": {
            "tags": []
          },
          "execution_count": 13
        }
      ]
    },
    {
      "cell_type": "code",
      "metadata": {
        "id": "0_nCoIBq3x-1",
        "colab_type": "code",
        "colab": {
          "base_uri": "https://localhost:8080/",
          "height": 137
        },
        "outputId": "23b30791-e480-4b3d-fc1e-e8d36c3d0d63"
      },
      "source": [
        "table=pd.DataFrame()\n",
        "for x in HC:  \n",
        "  ETFpayload = pd.read_html(web+x)\n",
        "  table=pd.concat([table,ETFpayload[17].loc[0:2,0]],axis=0)\n",
        "hc=table[table.duplicated(keep=False)]\n",
        "hc=hc.drop_duplicates()\n",
        "if len(hc)>3:\n",
        "  hc=hc.iloc[0:3]\n",
        "for x in range(3):\n",
        "  hc.iloc[x,0]=''.join(filter(str.isalpha,hc.iloc[x,0]))\n",
        "hc"
      ],
      "execution_count": null,
      "outputs": [
        {
          "output_type": "execute_result",
          "data": {
            "text/html": [
              "<div>\n",
              "<style scoped>\n",
              "    .dataframe tbody tr th:only-of-type {\n",
              "        vertical-align: middle;\n",
              "    }\n",
              "\n",
              "    .dataframe tbody tr th {\n",
              "        vertical-align: top;\n",
              "    }\n",
              "\n",
              "    .dataframe thead th {\n",
              "        text-align: right;\n",
              "    }\n",
              "</style>\n",
              "<table border=\"1\" class=\"dataframe\">\n",
              "  <thead>\n",
              "    <tr style=\"text-align: right;\">\n",
              "      <th></th>\n",
              "      <th>0</th>\n",
              "    </tr>\n",
              "  </thead>\n",
              "  <tbody>\n",
              "    <tr>\n",
              "      <th>0</th>\n",
              "      <td>JNJ</td>\n",
              "    </tr>\n",
              "    <tr>\n",
              "      <th>1</th>\n",
              "      <td>UNH</td>\n",
              "    </tr>\n",
              "    <tr>\n",
              "      <th>2</th>\n",
              "      <td>MRK</td>\n",
              "    </tr>\n",
              "  </tbody>\n",
              "</table>\n",
              "</div>"
            ],
            "text/plain": [
              "     0\n",
              "0  JNJ\n",
              "1  UNH\n",
              "2  MRK"
            ]
          },
          "metadata": {
            "tags": []
          },
          "execution_count": 14
        }
      ]
    },
    {
      "cell_type": "code",
      "metadata": {
        "id": "5jMh8Qf_30mR",
        "colab_type": "code",
        "colab": {
          "base_uri": "https://localhost:8080/",
          "height": 137
        },
        "outputId": "ff598a08-9b63-4dc0-c4af-9a246e2e773d"
      },
      "source": [
        "table=pd.DataFrame()\n",
        "for x in F:\n",
        "  ETFpayload = pd.read_html(web+x)\n",
        "  if x=='FAS':\n",
        "    table=pd.concat([table,ETFpayload[16].loc[0:2,0]],axis=0)\n",
        "  else:\n",
        "    table=pd.concat([table,ETFpayload[17].loc[0:2,0]],axis=0)\n",
        "f=table[table.duplicated(keep=False)]\n",
        "for x in range(len(f)):\n",
        "  if f.iloc[x,0]=='BRK/B':\n",
        "    f.iloc[x,0]=f.iloc[-1,0]\n",
        "f=f.drop_duplicates()\n",
        "if len(f)>3:\n",
        "  f=f.iloc[0:3]\n",
        "for x in range(3):\n",
        "  f.iloc[x,0]=''.join(filter(str.isalpha,f.iloc[x,0]))\n",
        "f"
      ],
      "execution_count": null,
      "outputs": [
        {
          "output_type": "execute_result",
          "data": {
            "text/html": [
              "<div>\n",
              "<style scoped>\n",
              "    .dataframe tbody tr th:only-of-type {\n",
              "        vertical-align: middle;\n",
              "    }\n",
              "\n",
              "    .dataframe tbody tr th {\n",
              "        vertical-align: top;\n",
              "    }\n",
              "\n",
              "    .dataframe thead th {\n",
              "        text-align: right;\n",
              "    }\n",
              "</style>\n",
              "<table border=\"1\" class=\"dataframe\">\n",
              "  <thead>\n",
              "    <tr style=\"text-align: right;\">\n",
              "      <th></th>\n",
              "      <th>0</th>\n",
              "    </tr>\n",
              "  </thead>\n",
              "  <tbody>\n",
              "    <tr>\n",
              "      <th>0</th>\n",
              "      <td>JPM</td>\n",
              "    </tr>\n",
              "    <tr>\n",
              "      <th>2</th>\n",
              "      <td>BAC</td>\n",
              "    </tr>\n",
              "    <tr>\n",
              "      <th>1</th>\n",
              "      <td>V</td>\n",
              "    </tr>\n",
              "  </tbody>\n",
              "</table>\n",
              "</div>"
            ],
            "text/plain": [
              "     0\n",
              "0  JPM\n",
              "2  BAC\n",
              "1    V"
            ]
          },
          "metadata": {
            "tags": []
          },
          "execution_count": 15
        }
      ]
    },
    {
      "cell_type": "code",
      "metadata": {
        "id": "2dGFuQM131Nu",
        "colab_type": "code",
        "colab": {
          "base_uri": "https://localhost:8080/",
          "height": 136
        },
        "outputId": "54b644ea-ffe1-4b54-d9cb-79cd81c86f5f"
      },
      "source": [
        "table=pd.DataFrame()\n",
        "for x in U:\n",
        "  ETFpayload = pd.read_html(web+x)\n",
        "  table=pd.concat([table,ETFpayload[17].loc[0:2,0]],axis=0)\n",
        "u=table[table.duplicated(keep=False)]\n",
        "u=u.drop_duplicates()\n",
        "if len(u)>3:\n",
        "  u=u.iloc[0:3]\n",
        "for x in range(3):\n",
        "  u.iloc[x,0]=''.join(filter(str.isalpha,u.iloc[x,0]))\n",
        "u"
      ],
      "execution_count": null,
      "outputs": [
        {
          "output_type": "execute_result",
          "data": {
            "text/html": [
              "<div>\n",
              "<style scoped>\n",
              "    .dataframe tbody tr th:only-of-type {\n",
              "        vertical-align: middle;\n",
              "    }\n",
              "\n",
              "    .dataframe tbody tr th {\n",
              "        vertical-align: top;\n",
              "    }\n",
              "\n",
              "    .dataframe thead th {\n",
              "        text-align: right;\n",
              "    }\n",
              "</style>\n",
              "<table border=\"1\" class=\"dataframe\">\n",
              "  <thead>\n",
              "    <tr style=\"text-align: right;\">\n",
              "      <th></th>\n",
              "      <th>0</th>\n",
              "    </tr>\n",
              "  </thead>\n",
              "  <tbody>\n",
              "    <tr>\n",
              "      <th>0</th>\n",
              "      <td>NEE</td>\n",
              "    </tr>\n",
              "    <tr>\n",
              "      <th>1</th>\n",
              "      <td>D</td>\n",
              "    </tr>\n",
              "    <tr>\n",
              "      <th>2</th>\n",
              "      <td>DUK</td>\n",
              "    </tr>\n",
              "  </tbody>\n",
              "</table>\n",
              "</div>"
            ],
            "text/plain": [
              "     0\n",
              "0  NEE\n",
              "1    D\n",
              "2  DUK"
            ]
          },
          "metadata": {
            "tags": []
          },
          "execution_count": 11
        }
      ]
    },
    {
      "cell_type": "code",
      "metadata": {
        "id": "sfTd8rc4319R",
        "colab_type": "code",
        "colab": {
          "base_uri": "https://localhost:8080/",
          "height": 136
        },
        "outputId": "0785befc-ff64-42de-f268-adb13a595865"
      },
      "source": [
        "table=pd.DataFrame()\n",
        "for x in CS:\n",
        "  ETFpayload = pd.read_html(web+x)\n",
        "  table=pd.concat([table,ETFpayload[17].loc[0:2,0]],axis=0)\n",
        "cs=table[table.duplicated(keep=False)]\n",
        "cs=cs.drop_duplicates()\n",
        "if len(cs)>3:\n",
        "  cs=cs.iloc[0:3]\n",
        "for x in range(3):\n",
        "  cs.iloc[x,0]=''.join(filter(str.isalpha,cs.iloc[x,0]))\n",
        "cs"
      ],
      "execution_count": null,
      "outputs": [
        {
          "output_type": "execute_result",
          "data": {
            "text/html": [
              "<div>\n",
              "<style scoped>\n",
              "    .dataframe tbody tr th:only-of-type {\n",
              "        vertical-align: middle;\n",
              "    }\n",
              "\n",
              "    .dataframe tbody tr th {\n",
              "        vertical-align: top;\n",
              "    }\n",
              "\n",
              "    .dataframe thead th {\n",
              "        text-align: right;\n",
              "    }\n",
              "</style>\n",
              "<table border=\"1\" class=\"dataframe\">\n",
              "  <thead>\n",
              "    <tr style=\"text-align: right;\">\n",
              "      <th></th>\n",
              "      <th>0</th>\n",
              "    </tr>\n",
              "  </thead>\n",
              "  <tbody>\n",
              "    <tr>\n",
              "      <th>0</th>\n",
              "      <td>PG</td>\n",
              "    </tr>\n",
              "    <tr>\n",
              "      <th>1</th>\n",
              "      <td>PEP</td>\n",
              "    </tr>\n",
              "    <tr>\n",
              "      <th>2</th>\n",
              "      <td>KO</td>\n",
              "    </tr>\n",
              "  </tbody>\n",
              "</table>\n",
              "</div>"
            ],
            "text/plain": [
              "     0\n",
              "0   PG\n",
              "1  PEP\n",
              "2   KO"
            ]
          },
          "metadata": {
            "tags": []
          },
          "execution_count": 12
        }
      ]
    },
    {
      "cell_type": "markdown",
      "metadata": {
        "id": "Kydi4Fs9mUNL",
        "colab_type": "text"
      },
      "source": [
        "# Setting Data directories"
      ]
    },
    {
      "cell_type": "code",
      "metadata": {
        "id": "-MrvfDjiDmud",
        "colab_type": "code",
        "colab": {}
      },
      "source": [
        "def directory(df):\n",
        "  if str(df)==str(t):\n",
        "    dir='/content/drive/Shared drives/OPIM5512 - Data Sci. w Python/Data/Final Results/Technology/'\n",
        "  elif str(df)==str(cd):\n",
        "    dir='/content/drive/Shared drives/OPIM5512 - Data Sci. w Python/Data/Final Results/Consumer Discretionary/'\n",
        "  elif str(df)==str(hc):\n",
        "    dir='/content/drive/Shared drives/OPIM5512 - Data Sci. w Python/Data/Final Results/Healthcare/'\n",
        "  elif str(df)==str(f):\n",
        "    dir='/content/drive/Shared drives/OPIM5512 - Data Sci. w Python/Data/Final Results/Financials/'\n",
        "  elif str(df)==str(u):\n",
        "    dir='/content/drive/Shared drives/OPIM5512 - Data Sci. w Python/Data/Final Results/Utilities/'\n",
        "  else:\n",
        "    dir='/content/drive/Shared drives/OPIM5512 - Data Sci. w Python/Data/Final Results/Consumer Staples/'\n",
        "  return dir"
      ],
      "execution_count": null,
      "outputs": []
    },
    {
      "cell_type": "markdown",
      "metadata": {
        "id": "y-cxfxJImOkc",
        "colab_type": "text"
      },
      "source": [
        "# Data Extraction"
      ]
    },
    {
      "cell_type": "code",
      "metadata": {
        "id": "rlfe5_smFLKS",
        "colab_type": "code",
        "colab": {}
      },
      "source": [
        "def dataextract(df):\n",
        "  one=str(df.iloc[0,0])\n",
        "  two=str(df.iloc[1,0])\n",
        "  three=str(df.iloc[2,0])\n",
        "  data1 = pdr.get_data_yahoo(one,start='2017-01-01')\n",
        "  data2 = pdr.get_data_yahoo(two,start='2017-01-01')\n",
        "  data3 = pdr.get_data_yahoo(three,start='2017-01-01')\n",
        "  return data1,data2,data3,one,two,three"
      ],
      "execution_count": null,
      "outputs": []
    },
    {
      "cell_type": "markdown",
      "metadata": {
        "id": "9GB_2d6cHRaJ",
        "colab_type": "text"
      },
      "source": [
        "# Data Imputation\n",
        "\n"
      ]
    },
    {
      "cell_type": "code",
      "metadata": {
        "id": "i0FXuS8fHQRC",
        "colab_type": "code",
        "colab": {}
      },
      "source": [
        "def dataimpute(data):\n",
        "  dt = datetime.date(2017, 1, 1)\n",
        "  end = datetime.date.today()-datetime.timedelta(days=2)\n",
        "  day=pd.date_range(start=dt,end=end,freq='D')\n",
        "  temp=pd.DataFrame(data=day,columns=['Date'])\n",
        "  temp\n",
        "  date=data.index\n",
        "  for i in date:\n",
        "      for x in range(len(temp)):\n",
        "        if i==temp.loc[x,'Date']:\n",
        "          temp.loc[x,'High']=data.loc[i,'High']\n",
        "          temp.loc[x,'Low']=data.loc[i,'Low']\n",
        "          temp.loc[x,'Open']=data.loc[i,'Open']\n",
        "          temp.loc[x,'Close']=data.loc[i,'Close']\n",
        "          temp.loc[x,'Adj Close']=data.loc[i,'Adj Close']\n",
        "          temp.loc[x,'Volume']=data.loc[i,'Volume']\n",
        "  #Imputation\n",
        "  #temp=temp.interpolate(method=\"linear\") #Another Method\n",
        "  temp=temp.ffill()\n",
        "  temp=temp.bfill()\n",
        "  temp=temp.set_index('Date')  \n",
        "  return temp\n",
        "\n"
      ],
      "execution_count": null,
      "outputs": []
    },
    {
      "cell_type": "markdown",
      "metadata": {
        "id": "OGiHoUbyDrTq",
        "colab_type": "text"
      },
      "source": [
        "# Data Visualization"
      ]
    },
    {
      "cell_type": "code",
      "metadata": {
        "id": "xEu1_hgCmYgr",
        "colab_type": "code",
        "colab": {}
      },
      "source": [
        "#setting figure size\n",
        "from matplotlib.pylab import rcParams\n"
      ],
      "execution_count": null,
      "outputs": []
    },
    {
      "cell_type": "code",
      "metadata": {
        "id": "djmj8JdfIjYe",
        "colab_type": "code",
        "colab": {}
      },
      "source": [
        "def graph(data,dir1,number,time):\n",
        "   rcParams['figure.figsize'] = 20,10\n",
        "   params = {'legend.fontsize': 'x-large',\n",
        "            'axes.labelsize': 'x-large',\n",
        "          'axes.titlesize':'x-large',\n",
        "          'xtick.labelsize':'x-large',\n",
        "          'ytick.labelsize':'x-large'}\n",
        "   rcParams.update(params)\n",
        "\n",
        "   figure, axes = plt.subplots(nrows=4, ncols=2,sharex=True)\n",
        "   figure.subplots_adjust(hspace=0.4, wspace=0.4)\n",
        "   x=list(data.index.values)\n",
        " \n",
        "   axes[0,0].plot(x, data['Volume'], color='blue') \n",
        "   axes[0,0].set_title('VOLUME VERSUS DATE')\n",
        "   #axes[0,0].set(xlabel='DATES',ylabel='VOLUME')\n",
        "   \n",
        "\n",
        "   axes[0,1].plot(x, data['High'], color='g')\n",
        "   axes[0,1].plot(x, data['Low'], color='r')\n",
        "   axes[0,1].plot(x, data['Open'], color='m')\n",
        "   axes[0,1].plot(x, data['Close'], color='c')\n",
        "   axes[0,1].plot(x, data['Adj Close'], color='y')\n",
        "   axes[0,1].set_title('PRICES VERSUS DATE')\n",
        "   #axes[0,1].set(xlabel='DATES',ylabel='PRICES')\n",
        "\n",
        "   axes[1,0].plot(x, data['High'], color='g')\n",
        "   axes[1,0].set_title('HIGH PRICES VERSUS DATE')\n",
        "   #axes[1,0].set(xlabel='DATES',ylabel='HIGH PRICES')\n",
        "\n",
        "   axes[1,1].plot(x, data['Low'], color='r')\n",
        "   axes[1,1].set_title('LOW PRICES VERSUS DATE')\n",
        "   #axes[1,1].set(xlabel='DATES',ylabel='LOW PRICES')\n",
        "\n",
        "   axes[2,0].plot(x, data['Open'], color='m')\n",
        "   axes[2,0].set_title('OPEN PRICES VERSUS DATE')\n",
        "   #axes[2,0].set(xlabel='DATES',ylabel='OPEN PRICES')\n",
        "\n",
        "   axes[2,1].plot(x, data['Close'], color='c')\n",
        "   axes[2,1].set_title('CLOSE PRICES VERSUS DATE')\n",
        "   #axes[2,1].set(xlabel='DATES',ylabel='CLOSE PRICES')\n",
        "\n",
        "   axes[3,0].plot(x, data['Adj Close'], color='y',)\n",
        "   #axes[3,0].set_xticklabels([])\n",
        "   axes[3,0].set_title('ADJUSTED CLOSE PRICES VERSUS DATE')\n",
        "   #axes[3,0].set(xlabel='DATES',ylabel='ADJUSTED CLOSE PRICES')\n",
        "  \n",
        "   axes[3,1].plot(x, data['Open'], color='m') \n",
        "   axes[3,1].plot(x, data['Close'], color='c')\n",
        "   axes[3,1].plot(x, data['Adj Close'], color='y')\n",
        "   #axes[3,1].set_xticklabels([])\n",
        "   axes[3,1].set_title('OPEN,CLOSE AND PRICES VERSUS DATE')\n",
        "   #axes[3,1].set(xlabel='DATES',ylabel='PRICES')\n",
        "\n",
        "   figure.savefig(dir1+'/'+time+'/VOLUME AND PRICES GRAPH '+number+' '+time+'.png')\n",
        "   plt.clf()\n",
        "   \n",
        "   figure, axes = plt.subplots(nrows=3, ncols=2,sharex=True)\n",
        "   figure.subplots_adjust(hspace=0.4, wspace=0.4)\n",
        " \n",
        "   sns.distplot(data['Volume'],ax=axes[0,0])\n",
        "   axes[0,0].set_title('VOLUME')\n",
        "  \n",
        "   sns.distplot(data['High'],ax=axes[0,1])\n",
        "   axes[0,1].set_title('HIGH PRICE')\n",
        "\n",
        "   sns.distplot(data['Low'],ax=axes[1,0])\n",
        "   axes[1,0].set_title('LOW PRICES')\n",
        "  \n",
        "   sns.distplot(data['Open'],ax=axes[1,1])\n",
        "   axes[1,1].set_title('OPEN PRICES')\n",
        "\n",
        "   sns.distplot(data['Close'],ax=axes[2,0])\n",
        "   axes[2,0].set_title('CLOSE PRICES')\n",
        "\n",
        "   sns.distplot(data['Adj Close'],ax=axes[2,1])\n",
        "   axes[2,1].set_title('ADJUSTED CLOSE PRICES')  \n",
        "  \n",
        "   figure.savefig(dir1+'/'+time+'/DENSITY PLOTS '+number+' '+time+'.png')\n",
        "   plt.clf()\n",
        "\n",
        "   figure, axes = plt.subplots(nrows=3, ncols=2,sharex=True)\n",
        "   figure.subplots_adjust(hspace=0.4, wspace=0.4)\n",
        " \n",
        "   sns.boxplot(data['Volume'],ax=axes[0,0])\n",
        "   axes[0,0].set_title('VOLUME')\n",
        "  \n",
        "   sns.boxplot(data['High'],ax=axes[0,1])\n",
        "   axes[0,1].set_title('HIGH PRICE')\n",
        "\n",
        "   sns.boxplot(data['Low'],ax=axes[1,0])\n",
        "   axes[1,0].set_title('LOW PRICES')\n",
        "  \n",
        "   sns.boxplot(data['Open'],ax=axes[1,1])\n",
        "   axes[1,1].set_title('OPEN PRICES')\n",
        "\n",
        "   sns.boxplot(data['Close'],ax=axes[2,0])\n",
        "   axes[2,0].set_title('CLOSE PRICES')\n",
        "\n",
        "   sns.boxplot(data['Adj Close'],ax=axes[2,1])\n",
        "   axes[2,1].set_title('ADJUSTED CLOSE PRICES')  \n",
        "  \n",
        "   figure.savefig(dir1+'/'+time+'/BOX PLOTS '+number+' '+time+ \".png\")\n",
        "   plt.clf()"
      ],
      "execution_count": null,
      "outputs": []
    },
    {
      "cell_type": "code",
      "metadata": {
        "id": "bX05CQZ7pQ9r",
        "colab_type": "code",
        "colab": {
          "base_uri": "https://localhost:8080/",
          "height": 1000
        },
        "outputId": "bc4c3d22-857c-4416-dccc-9be1d1931746"
      },
      "source": [
        "! pip install https://github.com/pandas-profiling/pandas-profiling/archive/master.zip"
      ],
      "execution_count": null,
      "outputs": [
        {
          "output_type": "stream",
          "text": [
            "Collecting https://github.com/pandas-profiling/pandas-profiling/archive/master.zip\n",
            "\u001b[?25l  Downloading https://github.com/pandas-profiling/pandas-profiling/archive/master.zip\n",
            "\u001b[K     / 46.8MB 774kB/s\n",
            "\u001b[?25hRequirement already satisfied: joblib in /usr/local/lib/python3.6/dist-packages (from pandas-profiling==2.8.0) (0.15.1)\n",
            "Requirement already satisfied: scipy>=1.4.1 in /usr/local/lib/python3.6/dist-packages (from pandas-profiling==2.8.0) (1.4.1)\n",
            "Requirement already satisfied: pandas!=1.0.0,!=1.0.1,!=1.0.2,>=0.25.3 in /usr/local/lib/python3.6/dist-packages (from pandas-profiling==2.8.0) (1.0.5)\n",
            "Requirement already satisfied: matplotlib>=3.2.0 in /usr/local/lib/python3.6/dist-packages (from pandas-profiling==2.8.0) (3.2.2)\n",
            "Collecting confuse>=1.0.0\n",
            "\u001b[?25l  Downloading https://files.pythonhosted.org/packages/b5/6d/bedc0d1068bd244cee05843313cbec6cebb9f01f925538269bababc6d887/confuse-1.3.0-py2.py3-none-any.whl (64kB)\n",
            "\u001b[K     |████████████████████████████████| 71kB 2.1MB/s \n",
            "\u001b[?25hRequirement already satisfied: jinja2>=2.11.1 in /usr/local/lib/python3.6/dist-packages (from pandas-profiling==2.8.0) (2.11.2)\n",
            "Collecting visions[type_image_path]==0.4.4\n",
            "\u001b[?25l  Downloading https://files.pythonhosted.org/packages/4a/03/5a45d542257830cf1d9da2cdc1c0bc6f55a9212937b70fdd6d7031b46d6c/visions-0.4.4-py3-none-any.whl (59kB)\n",
            "\u001b[K     |████████████████████████████████| 61kB 5.8MB/s \n",
            "\u001b[?25hRequirement already satisfied: numpy>=1.16.0 in /usr/local/lib/python3.6/dist-packages (from pandas-profiling==2.8.0) (1.18.5)\n",
            "Collecting htmlmin>=0.1.12\n",
            "  Downloading https://files.pythonhosted.org/packages/b3/e7/fcd59e12169de19f0131ff2812077f964c6b960e7c09804d30a7bf2ab461/htmlmin-0.1.12.tar.gz\n",
            "Requirement already satisfied: missingno>=0.4.2 in /usr/local/lib/python3.6/dist-packages (from pandas-profiling==2.8.0) (0.4.2)\n",
            "Collecting phik>=0.9.10\n",
            "\u001b[?25l  Downloading https://files.pythonhosted.org/packages/01/5a/7ef1c04ce62cd72f900c06298dc2385840550d5c653a0dbc19109a5477e6/phik-0.10.0-py3-none-any.whl (599kB)\n",
            "\u001b[K     |████████████████████████████████| 604kB 15.1MB/s \n",
            "\u001b[?25hRequirement already satisfied: astropy>=4.0 in /usr/local/lib/python3.6/dist-packages (from pandas-profiling==2.8.0) (4.0.1.post1)\n",
            "Collecting tangled-up-in-unicode>=0.0.6\n",
            "\u001b[?25l  Downloading https://files.pythonhosted.org/packages/4a/e2/e588ab9298d4989ce7fdb2b97d18aac878d99dbdc379a4476a09d9271b68/tangled_up_in_unicode-0.0.6-py3-none-any.whl (3.1MB)\n",
            "\u001b[K     |████████████████████████████████| 3.1MB 25.9MB/s \n",
            "\u001b[?25hRequirement already satisfied: requests>=2.23.0 in /usr/local/lib/python3.6/dist-packages (from pandas-profiling==2.8.0) (2.23.0)\n",
            "Collecting tqdm>=4.43.0\n",
            "\u001b[?25l  Downloading https://files.pythonhosted.org/packages/46/62/7663894f67ac5a41a0d8812d78d9d2a9404124051885af9d77dc526fb399/tqdm-4.47.0-py2.py3-none-any.whl (66kB)\n",
            "\u001b[K     |████████████████████████████████| 71kB 8.2MB/s \n",
            "\u001b[?25hRequirement already satisfied: ipywidgets>=7.5.1 in /usr/local/lib/python3.6/dist-packages (from pandas-profiling==2.8.0) (7.5.1)\n",
            "Requirement already satisfied: pytz>=2017.2 in /usr/local/lib/python3.6/dist-packages (from pandas!=1.0.0,!=1.0.1,!=1.0.2,>=0.25.3->pandas-profiling==2.8.0) (2018.9)\n",
            "Requirement already satisfied: python-dateutil>=2.6.1 in /usr/local/lib/python3.6/dist-packages (from pandas!=1.0.0,!=1.0.1,!=1.0.2,>=0.25.3->pandas-profiling==2.8.0) (2.8.1)\n",
            "Requirement already satisfied: cycler>=0.10 in /usr/local/lib/python3.6/dist-packages (from matplotlib>=3.2.0->pandas-profiling==2.8.0) (0.10.0)\n",
            "Requirement already satisfied: kiwisolver>=1.0.1 in /usr/local/lib/python3.6/dist-packages (from matplotlib>=3.2.0->pandas-profiling==2.8.0) (1.2.0)\n",
            "Requirement already satisfied: pyparsing!=2.0.4,!=2.1.2,!=2.1.6,>=2.0.1 in /usr/local/lib/python3.6/dist-packages (from matplotlib>=3.2.0->pandas-profiling==2.8.0) (2.4.7)\n",
            "Requirement already satisfied: pyyaml in /usr/local/lib/python3.6/dist-packages (from confuse>=1.0.0->pandas-profiling==2.8.0) (3.13)\n",
            "Requirement already satisfied: MarkupSafe>=0.23 in /usr/local/lib/python3.6/dist-packages (from jinja2>=2.11.1->pandas-profiling==2.8.0) (1.1.1)\n",
            "Requirement already satisfied: networkx>=2.4 in /usr/local/lib/python3.6/dist-packages (from visions[type_image_path]==0.4.4->pandas-profiling==2.8.0) (2.4)\n",
            "Requirement already satisfied: attrs>=19.3.0 in /usr/local/lib/python3.6/dist-packages (from visions[type_image_path]==0.4.4->pandas-profiling==2.8.0) (19.3.0)\n",
            "Collecting imagehash; extra == \"type_image_path\"\n",
            "\u001b[?25l  Downloading https://files.pythonhosted.org/packages/1a/5d/cc81830be3c4705a46cdbca74439b67f1017881383ba0127c41c4cecb7b3/ImageHash-4.1.0.tar.gz (291kB)\n",
            "\u001b[K     |████████████████████████████████| 296kB 47.9MB/s \n",
            "\u001b[?25hRequirement already satisfied: Pillow; extra == \"type_image_path\" in /usr/local/lib/python3.6/dist-packages (from visions[type_image_path]==0.4.4->pandas-profiling==2.8.0) (7.0.0)\n",
            "Requirement already satisfied: seaborn in /usr/local/lib/python3.6/dist-packages (from missingno>=0.4.2->pandas-profiling==2.8.0) (0.10.1)\n",
            "Requirement already satisfied: numba>=0.38.1 in /usr/local/lib/python3.6/dist-packages (from phik>=0.9.10->pandas-profiling==2.8.0) (0.48.0)\n",
            "Requirement already satisfied: certifi>=2017.4.17 in /usr/local/lib/python3.6/dist-packages (from requests>=2.23.0->pandas-profiling==2.8.0) (2020.6.20)\n",
            "Requirement already satisfied: urllib3!=1.25.0,!=1.25.1,<1.26,>=1.21.1 in /usr/local/lib/python3.6/dist-packages (from requests>=2.23.0->pandas-profiling==2.8.0) (1.24.3)\n",
            "Requirement already satisfied: chardet<4,>=3.0.2 in /usr/local/lib/python3.6/dist-packages (from requests>=2.23.0->pandas-profiling==2.8.0) (3.0.4)\n",
            "Requirement already satisfied: idna<3,>=2.5 in /usr/local/lib/python3.6/dist-packages (from requests>=2.23.0->pandas-profiling==2.8.0) (2.9)\n",
            "Requirement already satisfied: ipykernel>=4.5.1 in /usr/local/lib/python3.6/dist-packages (from ipywidgets>=7.5.1->pandas-profiling==2.8.0) (4.10.1)\n",
            "Requirement already satisfied: widgetsnbextension~=3.5.0 in /usr/local/lib/python3.6/dist-packages (from ipywidgets>=7.5.1->pandas-profiling==2.8.0) (3.5.1)\n",
            "Requirement already satisfied: traitlets>=4.3.1 in /usr/local/lib/python3.6/dist-packages (from ipywidgets>=7.5.1->pandas-profiling==2.8.0) (4.3.3)\n",
            "Requirement already satisfied: nbformat>=4.2.0 in /usr/local/lib/python3.6/dist-packages (from ipywidgets>=7.5.1->pandas-profiling==2.8.0) (5.0.7)\n",
            "Requirement already satisfied: ipython>=4.0.0; python_version >= \"3.3\" in /usr/local/lib/python3.6/dist-packages (from ipywidgets>=7.5.1->pandas-profiling==2.8.0) (5.5.0)\n",
            "Requirement already satisfied: six>=1.5 in /usr/local/lib/python3.6/dist-packages (from python-dateutil>=2.6.1->pandas!=1.0.0,!=1.0.1,!=1.0.2,>=0.25.3->pandas-profiling==2.8.0) (1.12.0)\n",
            "Requirement already satisfied: decorator>=4.3.0 in /usr/local/lib/python3.6/dist-packages (from networkx>=2.4->visions[type_image_path]==0.4.4->pandas-profiling==2.8.0) (4.4.2)\n",
            "Requirement already satisfied: PyWavelets in /usr/local/lib/python3.6/dist-packages (from imagehash; extra == \"type_image_path\"->visions[type_image_path]==0.4.4->pandas-profiling==2.8.0) (1.1.1)\n",
            "Requirement already satisfied: llvmlite<0.32.0,>=0.31.0dev0 in /usr/local/lib/python3.6/dist-packages (from numba>=0.38.1->phik>=0.9.10->pandas-profiling==2.8.0) (0.31.0)\n",
            "Requirement already satisfied: setuptools in /usr/local/lib/python3.6/dist-packages (from numba>=0.38.1->phik>=0.9.10->pandas-profiling==2.8.0) (47.3.1)\n",
            "Requirement already satisfied: tornado>=4.0 in /usr/local/lib/python3.6/dist-packages (from ipykernel>=4.5.1->ipywidgets>=7.5.1->pandas-profiling==2.8.0) (4.5.3)\n",
            "Requirement already satisfied: jupyter-client in /usr/local/lib/python3.6/dist-packages (from ipykernel>=4.5.1->ipywidgets>=7.5.1->pandas-profiling==2.8.0) (5.3.4)\n",
            "Requirement already satisfied: notebook>=4.4.1 in /usr/local/lib/python3.6/dist-packages (from widgetsnbextension~=3.5.0->ipywidgets>=7.5.1->pandas-profiling==2.8.0) (5.2.2)\n",
            "Requirement already satisfied: ipython-genutils in /usr/local/lib/python3.6/dist-packages (from traitlets>=4.3.1->ipywidgets>=7.5.1->pandas-profiling==2.8.0) (0.2.0)\n",
            "Requirement already satisfied: jsonschema!=2.5.0,>=2.4 in /usr/local/lib/python3.6/dist-packages (from nbformat>=4.2.0->ipywidgets>=7.5.1->pandas-profiling==2.8.0) (2.6.0)\n",
            "Requirement already satisfied: jupyter-core in /usr/local/lib/python3.6/dist-packages (from nbformat>=4.2.0->ipywidgets>=7.5.1->pandas-profiling==2.8.0) (4.6.3)\n",
            "Requirement already satisfied: pickleshare in /usr/local/lib/python3.6/dist-packages (from ipython>=4.0.0; python_version >= \"3.3\"->ipywidgets>=7.5.1->pandas-profiling==2.8.0) (0.7.5)\n",
            "Requirement already satisfied: simplegeneric>0.8 in /usr/local/lib/python3.6/dist-packages (from ipython>=4.0.0; python_version >= \"3.3\"->ipywidgets>=7.5.1->pandas-profiling==2.8.0) (0.8.1)\n",
            "Requirement already satisfied: pygments in /usr/local/lib/python3.6/dist-packages (from ipython>=4.0.0; python_version >= \"3.3\"->ipywidgets>=7.5.1->pandas-profiling==2.8.0) (2.1.3)\n",
            "Requirement already satisfied: prompt-toolkit<2.0.0,>=1.0.4 in /usr/local/lib/python3.6/dist-packages (from ipython>=4.0.0; python_version >= \"3.3\"->ipywidgets>=7.5.1->pandas-profiling==2.8.0) (1.0.18)\n",
            "Requirement already satisfied: pexpect; sys_platform != \"win32\" in /usr/local/lib/python3.6/dist-packages (from ipython>=4.0.0; python_version >= \"3.3\"->ipywidgets>=7.5.1->pandas-profiling==2.8.0) (4.8.0)\n",
            "Requirement already satisfied: pyzmq>=13 in /usr/local/lib/python3.6/dist-packages (from jupyter-client->ipykernel>=4.5.1->ipywidgets>=7.5.1->pandas-profiling==2.8.0) (19.0.1)\n",
            "Requirement already satisfied: terminado>=0.3.3; sys_platform != \"win32\" in /usr/local/lib/python3.6/dist-packages (from notebook>=4.4.1->widgetsnbextension~=3.5.0->ipywidgets>=7.5.1->pandas-profiling==2.8.0) (0.8.3)\n",
            "Requirement already satisfied: nbconvert in /usr/local/lib/python3.6/dist-packages (from notebook>=4.4.1->widgetsnbextension~=3.5.0->ipywidgets>=7.5.1->pandas-profiling==2.8.0) (5.6.1)\n",
            "Requirement already satisfied: wcwidth in /usr/local/lib/python3.6/dist-packages (from prompt-toolkit<2.0.0,>=1.0.4->ipython>=4.0.0; python_version >= \"3.3\"->ipywidgets>=7.5.1->pandas-profiling==2.8.0) (0.2.5)\n",
            "Requirement already satisfied: ptyprocess>=0.5 in /usr/local/lib/python3.6/dist-packages (from pexpect; sys_platform != \"win32\"->ipython>=4.0.0; python_version >= \"3.3\"->ipywidgets>=7.5.1->pandas-profiling==2.8.0) (0.6.0)\n",
            "Requirement already satisfied: entrypoints>=0.2.2 in /usr/local/lib/python3.6/dist-packages (from nbconvert->notebook>=4.4.1->widgetsnbextension~=3.5.0->ipywidgets>=7.5.1->pandas-profiling==2.8.0) (0.3)\n",
            "Requirement already satisfied: mistune<2,>=0.8.1 in /usr/local/lib/python3.6/dist-packages (from nbconvert->notebook>=4.4.1->widgetsnbextension~=3.5.0->ipywidgets>=7.5.1->pandas-profiling==2.8.0) (0.8.4)\n",
            "Requirement already satisfied: bleach in /usr/local/lib/python3.6/dist-packages (from nbconvert->notebook>=4.4.1->widgetsnbextension~=3.5.0->ipywidgets>=7.5.1->pandas-profiling==2.8.0) (3.1.5)\n",
            "Requirement already satisfied: defusedxml in /usr/local/lib/python3.6/dist-packages (from nbconvert->notebook>=4.4.1->widgetsnbextension~=3.5.0->ipywidgets>=7.5.1->pandas-profiling==2.8.0) (0.6.0)\n",
            "Requirement already satisfied: pandocfilters>=1.4.1 in /usr/local/lib/python3.6/dist-packages (from nbconvert->notebook>=4.4.1->widgetsnbextension~=3.5.0->ipywidgets>=7.5.1->pandas-profiling==2.8.0) (1.4.2)\n",
            "Requirement already satisfied: testpath in /usr/local/lib/python3.6/dist-packages (from nbconvert->notebook>=4.4.1->widgetsnbextension~=3.5.0->ipywidgets>=7.5.1->pandas-profiling==2.8.0) (0.4.4)\n",
            "Requirement already satisfied: webencodings in /usr/local/lib/python3.6/dist-packages (from bleach->nbconvert->notebook>=4.4.1->widgetsnbextension~=3.5.0->ipywidgets>=7.5.1->pandas-profiling==2.8.0) (0.5.1)\n",
            "Requirement already satisfied: packaging in /usr/local/lib/python3.6/dist-packages (from bleach->nbconvert->notebook>=4.4.1->widgetsnbextension~=3.5.0->ipywidgets>=7.5.1->pandas-profiling==2.8.0) (20.4)\n",
            "Building wheels for collected packages: pandas-profiling, htmlmin, imagehash\n",
            "  Building wheel for pandas-profiling (setup.py) ... \u001b[?25l\u001b[?25hdone\n",
            "  Created wheel for pandas-profiling: filename=pandas_profiling-2.8.0-py2.py3-none-any.whl size=259932 sha256=563a4c903f499774bd489593c3b403dd3b8bdc86f22c4a048667257cd43e0830\n",
            "  Stored in directory: /tmp/pip-ephem-wheel-cache-fhu1rlzz/wheels/56/c2/dd/8d945b0443c35df7d5f62fa9e9ae105a2d8b286302b92e0109\n",
            "  Building wheel for htmlmin (setup.py) ... \u001b[?25l\u001b[?25hdone\n",
            "  Created wheel for htmlmin: filename=htmlmin-0.1.12-cp36-none-any.whl size=27084 sha256=84746b243a83e2e518bfdd6716c9df8648bcb838a8ce28ce24f45c800d22e38a\n",
            "  Stored in directory: /root/.cache/pip/wheels/43/07/ac/7c5a9d708d65247ac1f94066cf1db075540b85716c30255459\n",
            "  Building wheel for imagehash (setup.py) ... \u001b[?25l\u001b[?25hdone\n",
            "  Created wheel for imagehash: filename=ImageHash-4.1.0-py2.py3-none-any.whl size=291990 sha256=e628003ddc4284228861caf1925dac2250ad9ee097c66db8d1836582de5da5d8\n",
            "  Stored in directory: /root/.cache/pip/wheels/07/1c/dc/6831446f09feb8cc199ec73a0f2f0703253f6ae013a22f4be9\n",
            "Successfully built pandas-profiling htmlmin imagehash\n",
            "Installing collected packages: confuse, tangled-up-in-unicode, imagehash, visions, htmlmin, phik, tqdm, pandas-profiling\n",
            "  Found existing installation: tqdm 4.41.1\n",
            "    Uninstalling tqdm-4.41.1:\n",
            "      Successfully uninstalled tqdm-4.41.1\n",
            "  Found existing installation: pandas-profiling 1.4.1\n",
            "    Uninstalling pandas-profiling-1.4.1:\n",
            "      Successfully uninstalled pandas-profiling-1.4.1\n",
            "Successfully installed confuse-1.3.0 htmlmin-0.1.12 imagehash-4.1.0 pandas-profiling-2.8.0 phik-0.10.0 tangled-up-in-unicode-0.0.6 tqdm-4.47.0 visions-0.4.4\n"
          ],
          "name": "stdout"
        },
        {
          "output_type": "display_data",
          "data": {
            "application/vnd.colab-display-data+json": {
              "pip_warning": {
                "packages": [
                  "tqdm"
                ]
              }
            }
          },
          "metadata": {
            "tags": []
          }
        }
      ]
    },
    {
      "cell_type": "code",
      "metadata": {
        "id": "IbOejseOqbWX",
        "colab_type": "code",
        "colab": {}
      },
      "source": [
        "from pandas_profiling import ProfileReport"
      ],
      "execution_count": null,
      "outputs": []
    },
    {
      "cell_type": "markdown",
      "metadata": {
        "id": "CmvAmN9BCYjM",
        "colab_type": "text"
      },
      "source": [
        "# Correlation  Matrix and Scatter Plots"
      ]
    },
    {
      "cell_type": "code",
      "metadata": {
        "id": "SLMJjvQvusNH",
        "colab_type": "code",
        "colab": {}
      },
      "source": [
        "def datainspect(data,dir1,number,time):\n",
        "  pp=sns.pairplot(data,height=2)\n",
        "  pp.savefig(dir1 + \"/\"+time+ \"/Pairplot new \"+ number +\" \"+ time +  \".png\")\n",
        "  plt.clf()\n",
        "  correlation_matrix = data.corr()\n",
        "  sns.set(rc={'figure.figsize':(10,10)})\n",
        "  sns_plot1=sns.heatmap(data=correlation_matrix, annot=True)\n",
        "  fig = sns_plot1.get_figure()\n",
        "  fig.savefig(dir1+\"/\"+time+\"/Correlation matrix new \"+number+\" \"+time+\".png\")\n",
        "  plt.clf()\n",
        "  profile=ProfileReport(data)\n",
        "  profile.to_file(dir1+\"/\"+time+\"/Report new \"+number+\" \"+time+\".html\")"
      ],
      "execution_count": null,
      "outputs": []
    },
    {
      "cell_type": "markdown",
      "metadata": {
        "id": "1N7u1EJe7ZS3",
        "colab_type": "text"
      },
      "source": [
        "# Data Preprocessing"
      ]
    },
    {
      "cell_type": "code",
      "metadata": {
        "id": "3mwSktuS2YNa",
        "colab_type": "code",
        "colab": {}
      },
      "source": [
        "def datapreprocess(data):\n",
        "  scaler = MinMaxScaler() \n",
        "  scaled_values = scaler.fit_transform(data) \n",
        "  data.loc[:,:] = scaled_values\n",
        "  return data\n"
      ],
      "execution_count": null,
      "outputs": []
    },
    {
      "cell_type": "markdown",
      "metadata": {
        "id": "sAv7MwlhmZrc",
        "colab_type": "text"
      },
      "source": [
        "# Just Sampling for technology to get results"
      ]
    },
    {
      "cell_type": "code",
      "metadata": {
        "id": "8ypy7zrMUnCi",
        "colab_type": "code",
        "colab": {}
      },
      "source": [
        "def datawrangling(d):\n",
        "  dir=directory(d)\n",
        "  data1,data2,data3,one,two,three=dataextract(d)\n",
        "  # define the name of the directory to be created\n",
        "  comp=[one,two,three]\n",
        "  #for j in comp:\n",
        "    #p=dir\n",
        "    #q=j+\"/\"+\"before\"\n",
        "    #path=p+q\n",
        "    #try:\n",
        "      #os.makedirs(path)\n",
        "    #except OSError:\n",
        "      #print (\"Creation of the directory %s failed\" % path)\n",
        "    #else:\n",
        "      #print (\"Successfully created the directory %s\" % path)\n",
        "    #q=j+\"/\"+\"after\"\n",
        "    #path=p+q\n",
        "    #try:\n",
        "      #os.makedirs(path)\n",
        "    #except OSError:\n",
        "      #print (\"Creation of the directory %s failed\" % path)\n",
        "    #else:\n",
        "      #print (\"Successfully created the directory %s\" % path)\n",
        "  data1=dataimpute(data1)\n",
        "  data2=dataimpute(data2)\n",
        "  data3=dataimpute(data3)\n",
        "  dir1=os.path.join(dir, one)\n",
        "  dir2=os.path.join(dir, two)\n",
        "  dir3=os.path.join(dir, three)\n",
        "  time='before'\n",
        "  #graph(data1,dir1,one,time)\n",
        "  #graph(data2,dir2,two,time)\n",
        "  #graph(data3,dir3,three,time)\n",
        "  #datainspect(data1,dir1,one,time)\n",
        "  #datainspect(data2,dir2,two,time)\n",
        "  #datainspect(data3,dir3,three,time)\n",
        "  #datapreprocessing\n",
        "  scaled_data1=datapreprocess(data1)\n",
        "  scaled_data2=datapreprocess(data2)\n",
        "  scaled_data3=datapreprocess(data3)\n",
        "  scaled_data1['Adj Close']=data1['Adj Close']\n",
        "  scaled_data2['Adj Close']=data2['Adj Close']\n",
        "  scaled_data3['Adj Close']=data3['Adj Close']\n",
        "  time='after'\n",
        "  #graph(scaled_data1,dir2,two,time)\n",
        "  #graph(scaled_data1,dir3,three,time)\n",
        "  #datainspect(scaled_data1,dir1,one,time)\n",
        "  #datainspect(scaled_data2,dir2,two,time)\n",
        "  #datainspect(scaled_data3,dir3,three,time)\n",
        "  return scaled_data1,scaled_data2,scaled_data3\n"
      ],
      "execution_count": null,
      "outputs": []
    },
    {
      "cell_type": "code",
      "metadata": {
        "id": "WGVzwvn-EQVh",
        "colab_type": "code",
        "colab": {}
      },
      "source": [
        "scaled_data1,scaled_data2,scaled_data3=datawrangling(t)\n",
        "#datawrangling(cd)\n",
        "#datawrangling(hc)\n",
        "#datawrangling(f)\n",
        "#datawrangling(u)\n",
        "#datawrangling(cs)\n"
      ],
      "execution_count": null,
      "outputs": []
    },
    {
      "cell_type": "code",
      "metadata": {
        "id": "76G2yaMSO2h7",
        "colab_type": "code",
        "colab": {
          "base_uri": "https://localhost:8080/",
          "height": 233
        },
        "outputId": "4c9e1125-0e66-4a08-993d-176648aebe2c"
      },
      "source": [
        "df1=scaled_data1['Adj Close']\n",
        "df1"
      ],
      "execution_count": null,
      "outputs": [
        {
          "output_type": "execute_result",
          "data": {
            "text/plain": [
              "Date\n",
              "2017-01-01    0.000482\n",
              "2017-01-02    0.000482\n",
              "2017-01-03    0.000482\n",
              "2017-01-04    0.000000\n",
              "2017-01-05    0.002188\n",
              "                ...   \n",
              "2020-06-29    0.981464\n",
              "2020-06-30    0.993249\n",
              "2020-07-01    0.990556\n",
              "2020-07-02    0.990556\n",
              "2020-07-03    0.990556\n",
              "Name: Adj Close, Length: 1280, dtype: float64"
            ]
          },
          "metadata": {
            "tags": []
          },
          "execution_count": 34
        }
      ]
    },
    {
      "cell_type": "markdown",
      "metadata": {
        "id": "y7hnB98RASL6",
        "colab_type": "text"
      },
      "source": [
        "# Modeling Functions"
      ]
    },
    {
      "cell_type": "code",
      "metadata": {
        "id": "kW9gvoMiENqR",
        "colab_type": "code",
        "colab": {}
      },
      "source": [
        "def datapartition(d):\n",
        "  dir=directory(d)\n",
        "  data1,data2,data3,one,two,three=dataextract(d)\n",
        "  scaled_data1,scaled_data2,scaled_data3=datawrangling(d)\n",
        "  # define the name of the directory to be created\n",
        "  comp=[one,two,three]\n",
        "  #for j in comp:\n",
        "    #p=dir\n",
        "    #q=j+\"/\"+\"\"\n",
        "    #path=p+q\n",
        "    #try:\n",
        "      #os.makedirs(path)\n",
        "    #except OSError:\n",
        "      #print (\"Creation of the directory %s failed\" % path)\n",
        "    #else:\n",
        "      #print (\"Successfully created the directory %s\" % path)\n",
        "    \n",
        "   \n",
        "  \n",
        "     "
      ],
      "execution_count": null,
      "outputs": []
    },
    {
      "cell_type": "code",
      "metadata": {
        "id": "XsPYXS_x-NDI",
        "colab_type": "code",
        "colab": {}
      },
      "source": [
        "from sklearn.model_selection import train_test_split"
      ],
      "execution_count": null,
      "outputs": []
    },
    {
      "cell_type": "code",
      "metadata": {
        "id": "QRu-Gxqw-PbM",
        "colab_type": "code",
        "colab": {
          "base_uri": "https://localhost:8080/",
          "height": 200
        },
        "outputId": "20eeabb9-bc76-43ff-b7b7-7f63d61d5a5e"
      },
      "source": [
        "X=pd.DataFrame(df.iloc[:,:-1])\n",
        "y=pd.DataFrame(df.iloc[:,-1])\n",
        "X_train,X_test,y_train,y_test=train_test_split(X,y,test_size=0.2,random_state=5)"
      ],
      "execution_count": null,
      "outputs": [
        {
          "output_type": "error",
          "ename": "NameError",
          "evalue": "ignored",
          "traceback": [
            "\u001b[0;31m---------------------------------------------------------------------------\u001b[0m",
            "\u001b[0;31mNameError\u001b[0m                                 Traceback (most recent call last)",
            "\u001b[0;32m<ipython-input-29-195999bdc012>\u001b[0m in \u001b[0;36m<module>\u001b[0;34m()\u001b[0m\n\u001b[0;32m----> 1\u001b[0;31m \u001b[0mX\u001b[0m\u001b[0;34m=\u001b[0m\u001b[0mpd\u001b[0m\u001b[0;34m.\u001b[0m\u001b[0mDataFrame\u001b[0m\u001b[0;34m(\u001b[0m\u001b[0mdf\u001b[0m\u001b[0;34m.\u001b[0m\u001b[0miloc\u001b[0m\u001b[0;34m[\u001b[0m\u001b[0;34m:\u001b[0m\u001b[0;34m,\u001b[0m\u001b[0;34m:\u001b[0m\u001b[0;34m-\u001b[0m\u001b[0;36m1\u001b[0m\u001b[0;34m]\u001b[0m\u001b[0;34m)\u001b[0m\u001b[0;34m\u001b[0m\u001b[0;34m\u001b[0m\u001b[0m\n\u001b[0m\u001b[1;32m      2\u001b[0m \u001b[0my\u001b[0m\u001b[0;34m=\u001b[0m\u001b[0mpd\u001b[0m\u001b[0;34m.\u001b[0m\u001b[0mDataFrame\u001b[0m\u001b[0;34m(\u001b[0m\u001b[0mdf\u001b[0m\u001b[0;34m.\u001b[0m\u001b[0miloc\u001b[0m\u001b[0;34m[\u001b[0m\u001b[0;34m:\u001b[0m\u001b[0;34m,\u001b[0m\u001b[0;34m-\u001b[0m\u001b[0;36m1\u001b[0m\u001b[0;34m]\u001b[0m\u001b[0;34m)\u001b[0m\u001b[0;34m\u001b[0m\u001b[0;34m\u001b[0m\u001b[0m\n\u001b[1;32m      3\u001b[0m \u001b[0mX_train\u001b[0m\u001b[0;34m,\u001b[0m\u001b[0mX_test\u001b[0m\u001b[0;34m,\u001b[0m\u001b[0my_train\u001b[0m\u001b[0;34m,\u001b[0m\u001b[0my_test\u001b[0m\u001b[0;34m=\u001b[0m\u001b[0mtrain_test_split\u001b[0m\u001b[0;34m(\u001b[0m\u001b[0mX\u001b[0m\u001b[0;34m,\u001b[0m\u001b[0my\u001b[0m\u001b[0;34m,\u001b[0m\u001b[0mtest_size\u001b[0m\u001b[0;34m=\u001b[0m\u001b[0;36m0.2\u001b[0m\u001b[0;34m,\u001b[0m\u001b[0mrandom_state\u001b[0m\u001b[0;34m=\u001b[0m\u001b[0;36m5\u001b[0m\u001b[0;34m)\u001b[0m\u001b[0;34m\u001b[0m\u001b[0;34m\u001b[0m\u001b[0m\n",
            "\u001b[0;31mNameError\u001b[0m: name 'df' is not defined"
          ]
        }
      ]
    },
    {
      "cell_type": "markdown",
      "metadata": {
        "id": "FLh7L-HG-QKQ",
        "colab_type": "text"
      },
      "source": [
        "# LINEAR REGRESSION"
      ]
    },
    {
      "cell_type": "code",
      "metadata": {
        "id": "bFM9fXN29giQ",
        "colab_type": "code",
        "colab": {}
      },
      "source": [
        "from sklearn.linear_model import LinearRegression\n",
        "from sklearn import metrics"
      ],
      "execution_count": null,
      "outputs": []
    },
    {
      "cell_type": "code",
      "metadata": {
        "id": "oF3wiYOzuUx6",
        "colab_type": "code",
        "colab": {}
      },
      "source": [
        "def linear(X_train,y_train):\n",
        "  linear=LinearRegression()\n",
        "  linear.fit(X_train,y_train)\n",
        "  y_pred=linear.predict(X_test)\n",
        "  mse=metrics.mean_squared_error(y_test,y_pred)\n",
        "  rmse1=np.sqrt(mse)\n",
        "  return y_pred,rmse1\n"
      ],
      "execution_count": null,
      "outputs": []
    },
    {
      "cell_type": "markdown",
      "metadata": {
        "id": "Eve4Ll0sPny8",
        "colab_type": "text"
      },
      "source": [
        "# LOGISTIC REGRESSION"
      ]
    },
    {
      "cell_type": "code",
      "metadata": {
        "id": "9UsV99Jk-nAG",
        "colab_type": "code",
        "colab": {}
      },
      "source": [
        "from sklearn.linear_model import LogisticRegression"
      ],
      "execution_count": null,
      "outputs": []
    },
    {
      "cell_type": "code",
      "metadata": {
        "id": "9aNcORUWELeb",
        "colab_type": "code",
        "colab": {}
      },
      "source": [
        "def logit(X_train,y_train):\n",
        "  logit=LogisticRegression()\n",
        "  logit.fit(X_train,y_train)\n",
        "  y_pred=logit.predict(X_test)\n",
        "  mse=metrics.mean_squared_error(y_test,y_pred)\n",
        "  rmse2=np.sqrt(mse)\n",
        "  return y_pred,rmse2"
      ],
      "execution_count": null,
      "outputs": []
    },
    {
      "cell_type": "markdown",
      "metadata": {
        "id": "L-WvyuJCPrE5",
        "colab_type": "text"
      },
      "source": [
        "# LASSO REGRESSION"
      ]
    },
    {
      "cell_type": "code",
      "metadata": {
        "id": "F1a3YHG-_Pgd",
        "colab_type": "code",
        "colab": {}
      },
      "source": [
        "from sklearn.linear_model import Lasso"
      ],
      "execution_count": null,
      "outputs": []
    },
    {
      "cell_type": "code",
      "metadata": {
        "colab_type": "code",
        "id": "yRRUY4FwGNf0",
        "colab": {}
      },
      "source": [
        "def lasso(X_train,y_train):\n",
        "  lasso=Lasso()\n",
        "  lasso.fit(X_train,y_train)\n",
        "  y_pred=lasso.predict(X_test) \n",
        "  mse=metrics.mean_squared_error(y_test,y_pred)\n",
        "  rmse3=np.sqrt(mse)\n",
        "  return y_pred,rmse3\n"
      ],
      "execution_count": null,
      "outputs": []
    },
    {
      "cell_type": "markdown",
      "metadata": {
        "id": "MjoFx9VuPvx3",
        "colab_type": "text"
      },
      "source": [
        "# ELASTIC NET REGRESSION"
      ]
    },
    {
      "cell_type": "code",
      "metadata": {
        "id": "igsgf-9I_kj1",
        "colab_type": "code",
        "colab": {}
      },
      "source": [
        "from sklearn.linear_model import ElasticNet"
      ],
      "execution_count": null,
      "outputs": []
    },
    {
      "cell_type": "code",
      "metadata": {
        "colab_type": "code",
        "id": "DdR2S9-GHZNm",
        "colab": {
          "base_uri": "https://localhost:8080/"
        },
        "outputId": "0d81fd10-37b9-438c-bd6d-1cccf2f1ffb2"
      },
      "source": [
        "def lasso(X_train,y_train):\n",
        "  EN=ElasticNet()\n",
        "  EN.fit(X_train,y_train)\n",
        "  y_pred=EN.predict(X_test)\n",
        "  mse=metrics.mean_squared_error(y_test,y_pred)\n",
        "  rmse4=np.sqrt(mse)\n",
        "  return y_pred,rmse4"
      ],
      "execution_count": null,
      "outputs": [
        {
          "output_type": "stream",
          "text": [
            "/usr/local/lib/python3.6/dist-packages/sklearn/linear_model/_coordinate_descent.py:476: ConvergenceWarning: Objective did not converge. You might want to increase the number of iterations. Duality gap: 103075218314292.22, tolerance: 37376622983.714294\n",
            "  positive)\n"
          ],
          "name": "stderr"
        },
        {
          "output_type": "execute_result",
          "data": {
            "text/plain": [
              "ElasticNet(alpha=1.0, copy_X=True, fit_intercept=True, l1_ratio=0.5,\n",
              "           max_iter=1000, normalize=False, positive=False, precompute=False,\n",
              "           random_state=None, selection='cyclic', tol=0.0001, warm_start=False)"
            ]
          },
          "metadata": {
            "tags": []
          },
          "execution_count": 44
        }
      ]
    },
    {
      "cell_type": "markdown",
      "metadata": {
        "id": "Tcg0eA1X_8ed",
        "colab_type": "text"
      },
      "source": [
        "# DECISION TREE"
      ]
    },
    {
      "cell_type": "code",
      "metadata": {
        "id": "2Yn0JRUnAAhw",
        "colab_type": "code",
        "colab": {}
      },
      "source": [
        "from sklearn.tree import DecisionTreeRegressor"
      ],
      "execution_count": null,
      "outputs": []
    },
    {
      "cell_type": "code",
      "metadata": {
        "colab_type": "code",
        "id": "txssZ_kpH4-w",
        "colab": {}
      },
      "source": [
        "def lasso(X_train,y_train):\n",
        "  DT=DecisionTreeRegressor()\n",
        "  DT.fit(X_train,y_train)\n",
        "  y_pred=DT.predict(X_test)\n",
        "  mse=metrics.mean_squared_error(y_test,y_pred)\n",
        "  rmse5=np.sqrt(mse)\n",
        "  return y_pred,rmse5"
      ],
      "execution_count": null,
      "outputs": []
    },
    {
      "cell_type": "markdown",
      "metadata": {
        "id": "MYQRIyd1P58b",
        "colab_type": "text"
      },
      "source": [
        "# KNN MODEL"
      ]
    },
    {
      "cell_type": "code",
      "metadata": {
        "colab_type": "code",
        "id": "kBqReRQcJPXq",
        "colab": {}
      },
      "source": [
        "from sklearn.neighbors import KNeighborsRegressor"
      ],
      "execution_count": null,
      "outputs": []
    },
    {
      "cell_type": "code",
      "metadata": {
        "id": "7vEFri-3ALuX",
        "colab_type": "code",
        "colab": {}
      },
      "source": [
        "def lasso(X_train,y_train):\n",
        "  KNN=KNeighborsRegressor()\n",
        "  KNN.fit(X_train,y_train)\n",
        "  y_pred=KNN.predict(X_test)\n",
        "  mse=metrics.mean_squared_error(y_test,y_pred)\n",
        "  rmse6=np.sqrt(mse)\n",
        "  return y_pred,rmse6"
      ],
      "execution_count": null,
      "outputs": []
    },
    {
      "cell_type": "markdown",
      "metadata": {
        "id": "Od4trFZlP8xV",
        "colab_type": "text"
      },
      "source": [
        "# SVR MODEL"
      ]
    },
    {
      "cell_type": "code",
      "metadata": {
        "colab_type": "code",
        "id": "aDRCznTXJzgi",
        "colab": {}
      },
      "source": [
        "from sklearn.svm import SVR"
      ],
      "execution_count": null,
      "outputs": []
    },
    {
      "cell_type": "code",
      "metadata": {
        "id": "RIih1dCWAfm-",
        "colab_type": "code",
        "colab": {}
      },
      "source": [
        "def lasso(X_train,y_train):\n",
        "  SVR=SVR()\n",
        "  SVR.fit(X_train,y_train)\n",
        "  y_pred=SVR.predict(X_test)\n",
        "  mse=metrics.mean_squared_error(y_test,y_pred)\n",
        "  rmse7=np.sqrt(mse)\n",
        "  return y_pred,rmse7"
      ],
      "execution_count": null,
      "outputs": []
    },
    {
      "cell_type": "code",
      "metadata": {
        "id": "HS673cBpkqCN",
        "colab_type": "code",
        "colab": {
          "base_uri": "https://localhost:8080/",
          "height": 283
        },
        "outputId": "e7de9431-3b50-4118-c829-098503c86240"
      },
      "source": [
        ""
      ],
      "execution_count": null,
      "outputs": [
        {
          "output_type": "error",
          "ename": "UnboundLocalError",
          "evalue": "ignored",
          "traceback": [
            "\u001b[0;31m---------------------------------------------------------------------------\u001b[0m",
            "\u001b[0;31mUnboundLocalError\u001b[0m                         Traceback (most recent call last)",
            "\u001b[0;32m<ipython-input-102-88b9148511d1>\u001b[0m in \u001b[0;36m<module>\u001b[0;34m()\u001b[0m\n\u001b[0;32m----> 1\u001b[0;31m \u001b[0mlasso\u001b[0m\u001b[0;34m(\u001b[0m\u001b[0mtrain\u001b[0m\u001b[0;34m,\u001b[0m\u001b[0mtest\u001b[0m\u001b[0;34m)\u001b[0m\u001b[0;34m\u001b[0m\u001b[0;34m\u001b[0m\u001b[0m\n\u001b[0m",
            "\u001b[0;32m<ipython-input-101-73dea382a537>\u001b[0m in \u001b[0;36mlasso\u001b[0;34m(X_train, y_train)\u001b[0m\n\u001b[1;32m      1\u001b[0m \u001b[0;32mdef\u001b[0m \u001b[0mlasso\u001b[0m\u001b[0;34m(\u001b[0m\u001b[0mX_train\u001b[0m\u001b[0;34m,\u001b[0m\u001b[0my_train\u001b[0m\u001b[0;34m)\u001b[0m\u001b[0;34m:\u001b[0m\u001b[0;34m\u001b[0m\u001b[0;34m\u001b[0m\u001b[0m\n\u001b[0;32m----> 2\u001b[0;31m   \u001b[0mSVR\u001b[0m\u001b[0;34m=\u001b[0m\u001b[0mSVR\u001b[0m\u001b[0;34m(\u001b[0m\u001b[0;34m)\u001b[0m\u001b[0;34m\u001b[0m\u001b[0;34m\u001b[0m\u001b[0m\n\u001b[0m\u001b[1;32m      3\u001b[0m   \u001b[0mSVR\u001b[0m\u001b[0;34m.\u001b[0m\u001b[0mfit\u001b[0m\u001b[0;34m(\u001b[0m\u001b[0mX_train\u001b[0m\u001b[0;34m,\u001b[0m\u001b[0my_train\u001b[0m\u001b[0;34m)\u001b[0m\u001b[0;34m\u001b[0m\u001b[0;34m\u001b[0m\u001b[0m\n\u001b[1;32m      4\u001b[0m   \u001b[0my_pred\u001b[0m\u001b[0;34m=\u001b[0m\u001b[0mSVR\u001b[0m\u001b[0;34m.\u001b[0m\u001b[0mpredict\u001b[0m\u001b[0;34m(\u001b[0m\u001b[0mX_test\u001b[0m\u001b[0;34m)\u001b[0m\u001b[0;34m\u001b[0m\u001b[0;34m\u001b[0m\u001b[0m\n\u001b[1;32m      5\u001b[0m   \u001b[0mmse\u001b[0m\u001b[0;34m=\u001b[0m\u001b[0mmetrics\u001b[0m\u001b[0;34m.\u001b[0m\u001b[0mmean_squared_error\u001b[0m\u001b[0;34m(\u001b[0m\u001b[0my_test\u001b[0m\u001b[0;34m,\u001b[0m\u001b[0my_pred\u001b[0m\u001b[0;34m)\u001b[0m\u001b[0;34m\u001b[0m\u001b[0;34m\u001b[0m\u001b[0m\n",
            "\u001b[0;31mUnboundLocalError\u001b[0m: local variable 'SVR' referenced before assignment"
          ]
        }
      ]
    },
    {
      "cell_type": "markdown",
      "metadata": {
        "id": "iMjV06rwLjNS",
        "colab_type": "text"
      },
      "source": [
        "# ARIMA model\n"
      ]
    },
    {
      "cell_type": "code",
      "metadata": {
        "id": "uRJ1yyKXTWxJ",
        "colab_type": "code",
        "colab": {}
      },
      "source": [
        "import numpy as np\n",
        "import pandas as pd\n",
        "from pandas_datareader import data as pdr\n",
        "from datetime import date\n",
        "from sklearn.linear_model import LinearRegression\n",
        "from sklearn.preprocessing import MinMaxScaler\n",
        "import matplotlib.pyplot as plt\n",
        "%matplotlib inline\n",
        "scaler = MinMaxScaler(feature_range=(0, 1))"
      ],
      "execution_count": null,
      "outputs": []
    },
    {
      "cell_type": "code",
      "metadata": {
        "id": "aVU5jh_nLUuu",
        "colab_type": "code",
        "colab": {}
      },
      "source": [
        "def trainarima(df):\n",
        "  train_data = df[0:int(len(df)*0.7)]\n",
        "  return train_data\n",
        "train = trainarima(df)"
      ],
      "execution_count": null,
      "outputs": []
    },
    {
      "cell_type": "code",
      "metadata": {
        "id": "88dP8BS0RUFF",
        "colab_type": "code",
        "colab": {}
      },
      "source": [
        "def testarima(df):\n",
        "  test_data =df[int(len(df)*0.7)-1:]\n",
        "  return test_data"
      ],
      "execution_count": null,
      "outputs": []
    },
    {
      "cell_type": "code",
      "metadata": {
        "id": "FCmfWpjfSa6J",
        "colab_type": "code",
        "colab": {}
      },
      "source": [
        "test = testarima(df)"
      ],
      "execution_count": null,
      "outputs": []
    },
    {
      "cell_type": "code",
      "metadata": {
        "id": "j-aKCsq6RcDC",
        "colab_type": "code",
        "colab": {}
      },
      "source": [
        "def plotarima(train_data,test_data):\n",
        "  plt.figure(figsize=(12,7))\n",
        "  plt.title('Prices')\n",
        "  plt.xlabel('Dates')\n",
        "  plt.ylabel('Prices')\n",
        "  plt.plot(train_data, 'blue', label='Training Data')\n",
        "  plt.plot(test_data, 'green', label='Testing Data')\n",
        "  plt.legend()\n",
        "  return plt.show()"
      ],
      "execution_count": null,
      "outputs": []
    },
    {
      "cell_type": "code",
      "metadata": {
        "id": "plBfKJaaSeiU",
        "colab_type": "code",
        "colab": {
          "base_uri": "https://localhost:8080/",
          "height": 456
        },
        "outputId": "58a75e9d-9178-422a-afe8-ca6054bfd3c8"
      },
      "source": [
        "plotarima(train,test)"
      ],
      "execution_count": null,
      "outputs": [
        {
          "output_type": "display_data",
          "data": {
            "image/png": "[encoded data removed]",
            "text/plain": [
              "<Figure size 864x504 with 1 Axes>"
            ]
          },
          "metadata": {
            "tags": [],
            "needs_background": "light"
          }
        }
      ]
    },
    {
      "cell_type": "markdown",
      "metadata": {
        "id": "VHwo9lpTLwe0",
        "colab_type": "text"
      },
      "source": [
        "Check stationarity"
      ]
    },
    {
      "cell_type": "code",
      "metadata": {
        "id": "CsiLXKtGLv8Q",
        "colab_type": "code",
        "colab": {}
      },
      "source": [
        "from statsmodels.tsa.stattools import adfuller\n",
        "def test_stationarity(timeseries):\n",
        "    \n",
        "    #Determing rolling statistics\n",
        "    rolmean = pd.Series(timeseries).rolling(window=12).mean()\n",
        "    rolstd = pd.Series(timeseries).rolling(window=12).std()\n",
        "\n",
        "    #Plot rolling statistics:\n",
        "    plt.style.use('seaborn')\n",
        "    rcParams['figure.figsize'] = 20,10\n",
        "    orig = plt.plot(timeseries,label='Original')\n",
        "    mean = plt.plot(rolmean, label='Rolling Mean')\n",
        "    std = plt.plot(rolstd, label = 'Rolling Std')\n",
        "    plt.legend(loc='best')\n",
        "    plt.title('Rolling Mean & Standard Deviation')\n",
        "    plt.show(block=False)\n",
        "    \n",
        "    #Perform Dickey-Fuller test:\n",
        "    print('Results of Dickey-Fuller Test:')\n",
        "    dftest = adfuller(timeseries, autolag='AIC')\n",
        "    dfoutput = pd.Series(dftest[0:4], index=['Test Statistic','p-value','#Lags Used','Number of Observations Used'])\n",
        "    for key,value in dftest[4].items():\n",
        "        dfoutput['Critical Value (%s)'%key] = value\n",
        "    print(dfoutput)"
      ],
      "execution_count": null,
      "outputs": []
    },
    {
      "cell_type": "code",
      "metadata": {
        "id": "erRt8rkhSve4",
        "colab_type": "code",
        "colab": {
          "base_uri": "https://localhost:8080/",
          "height": 166
        },
        "outputId": "a33513c9-42e0-4520-fd5a-a92bed46cee8"
      },
      "source": [
        "test_stationarity(train)"
      ],
      "execution_count": null,
      "outputs": [
        {
          "output_type": "stream",
          "text": [
            "Results of Dickey-Fuller Test:\n",
            "Test Statistic                  -2.171506\n",
            "p-value                          0.216749\n",
            "#Lags Used                      15.000000\n",
            "Number of Observations Used    880.000000\n",
            "Critical Value (1%)             -3.437803\n",
            "Critical Value (5%)             -2.864830\n",
            "Critical Value (10%)            -2.568522\n",
            "dtype: float64\n"
          ],
          "name": "stdout"
        }
      ]
    },
    {
      "cell_type": "markdown",
      "metadata": {
        "id": "7fEboIgCegcK",
        "colab_type": "text"
      },
      "source": [
        "Whie noise test:"
      ]
    },
    {
      "cell_type": "code",
      "metadata": {
        "id": "wz3QuZK3eiLs",
        "colab_type": "code",
        "colab": {}
      },
      "source": [
        ""
      ],
      "execution_count": null,
      "outputs": []
    },
    {
      "cell_type": "markdown",
      "metadata": {
        "id": "0QfSE9NoIYXR",
        "colab_type": "text"
      },
      "source": [
        "Time Series Model"
      ]
    },
    {
      "cell_type": "code",
      "metadata": {
        "id": "TCLzOEV5MJxu",
        "colab_type": "code",
        "colab": {
          "base_uri": "https://localhost:8080/",
          "height": 570
        },
        "outputId": "44c4b309-9294-4bab-ac6c-41655d03e849"
      },
      "source": [
        "from sklearn.metrics import mean_squared_error\n",
        "from math import sqrt\n",
        "!pip install pyramid-arima\n",
        "from pyramid.arima import auto_arima"
      ],
      "execution_count": null,
      "outputs": [
        {
          "output_type": "stream",
          "text": [
            "Collecting pyramid-arima\n",
            "\u001b[?25l  Downloading https://files.pythonhosted.org/packages/5c/84/57422f2a6ade3161c586545e38b518ba1b7ab30ee4a4acc29110c0aba2bc/pyramid_arima-0.9.0-cp36-cp36m-manylinux1_x86_64.whl (597kB)\n",
            "\u001b[K     |████████████████████████████████| 604kB 3.4MB/s \n",
            "\u001b[?25hRequirement already satisfied: pandas>=0.19 in /usr/local/lib/python3.6/dist-packages (from pyramid-arima) (1.0.5)\n",
            "Requirement already satisfied: scikit-learn>=0.17 in /usr/local/lib/python3.6/dist-packages (from pyramid-arima) (0.22.2.post1)\n",
            "Requirement already satisfied: statsmodels>=0.9.0 in /usr/local/lib/python3.6/dist-packages (from pyramid-arima) (0.10.2)\n",
            "Requirement already satisfied: numpy>=1.10 in /usr/local/lib/python3.6/dist-packages (from pyramid-arima) (1.18.5)\n",
            "Requirement already satisfied: Cython>=0.23 in /usr/local/lib/python3.6/dist-packages (from pyramid-arima) (0.29.20)\n",
            "Requirement already satisfied: scipy>=0.9 in /usr/local/lib/python3.6/dist-packages (from pyramid-arima) (1.4.1)\n",
            "Requirement already satisfied: pytz>=2017.2 in /usr/local/lib/python3.6/dist-packages (from pandas>=0.19->pyramid-arima) (2018.9)\n",
            "Requirement already satisfied: python-dateutil>=2.6.1 in /usr/local/lib/python3.6/dist-packages (from pandas>=0.19->pyramid-arima) (2.8.1)\n",
            "Requirement already satisfied: joblib>=0.11 in /usr/local/lib/python3.6/dist-packages (from scikit-learn>=0.17->pyramid-arima) (0.15.1)\n",
            "Requirement already satisfied: patsy>=0.4.0 in /usr/local/lib/python3.6/dist-packages (from statsmodels>=0.9.0->pyramid-arima) (0.5.1)\n",
            "Requirement already satisfied: six>=1.5 in /usr/local/lib/python3.6/dist-packages (from python-dateutil>=2.6.1->pandas>=0.19->pyramid-arima) (1.12.0)\n",
            "Installing collected packages: pyramid-arima\n",
            "Successfully installed pyramid-arima-0.9.0\n"
          ],
          "name": "stdout"
        },
        {
          "output_type": "stream",
          "text": [
            "/usr/local/lib/python3.6/dist-packages/sklearn/externals/six.py:31: FutureWarning: The module is deprecated in version 0.21 and will be removed in version 0.23 since we've dropped support for Python 2.7. Please rely on the official version of six (https://pypi.org/project/six/).\n",
            "  \"(https://pypi.org/project/six/).\", FutureWarning)\n",
            "/usr/local/lib/python3.6/dist-packages/sklearn/externals/joblib/__init__.py:15: FutureWarning: sklearn.externals.joblib is deprecated in 0.21 and will be removed in 0.23. Please import this functionality directly from joblib, which can be installed with: pip install joblib. If this warning is raised when loading pickled models, you may need to re-serialize those models with scikit-learn 0.21+.\n",
            "  warnings.warn(msg, category=FutureWarning)\n",
            "/usr/local/lib/python3.6/dist-packages/pyramid/__init__.py:68: UserWarning: \n",
            "    The 'pyramid' package will be migrating to a new namespace beginning in \n",
            "    version 1.0.0: 'pmdarima'. This is due to a package name collision with the\n",
            "    Pyramid web framework. For more information, see Issue #34:\n",
            "    \n",
            "        https://github.com/tgsmith61591/pyramid/issues/34\n",
            "        \n",
            "    The package will subsequently be installable via the name 'pmdarima'; the\n",
            "    only functional change to the user will be the import name. All imports\n",
            "    from 'pyramid' will change to 'pmdarima'.\n",
            "    \n",
            "  \"\"\", UserWarning)\n"
          ],
          "name": "stderr"
        }
      ]
    },
    {
      "cell_type": "code",
      "metadata": {
        "id": "_06bgOVDfA7L",
        "colab_type": "code",
        "colab": {}
      },
      "source": [
        "from statsmodels.tsa.arima_model import ARIMA"
      ],
      "execution_count": null,
      "outputs": []
    },
    {
      "cell_type": "code",
      "metadata": {
        "id": "WZErAGpmdVpz",
        "colab_type": "code",
        "colab": {}
      },
      "source": [
        "def armodel(train_data,test_data): \n",
        "  plt.figure(figsize=(12,7))\n",
        "  aa=auto_arima(train_data, start_p=1, start_q=1, max_p=3, max_q=3, \n",
        "                m=12,start_P=0, seasonal=True,d=1, D=1, trace=True, \n",
        "                error_action='ignore',  suppress_warnings=True, stepwise=True)\n",
        "  train_ar = train_data.values\n",
        "  test_ar = test_data.values\n",
        "  history = [x for x in train_ar]\n",
        "  print(history)\n",
        "  predictions = list()\n",
        "  for t in range(len(test_ar)):\n",
        "      model = ARIMA(history, order=(aa.order))\n",
        "      model_fit = model.fit()\n",
        "      output = model_fit.forecast()\n",
        "      yhat = output[0]\n",
        "      predictions.append(yhat)\n",
        "      obs = test_ar[t]\n",
        "      history.append(obs)\n",
        "  error = mean_squared_error(test_ar, predictions)\n",
        "  print('RMSE '+ str(sqrt(error)))\n",
        "  plt.plot(train_data, 'green', color='blue', label='Training Data')\n",
        "  plt.plot(test_data.index, predictions, marker='o', linestyle='dashed', \n",
        "          label='Predicted Price')\n",
        "  plt.plot(test_data.index, test_data, color='red', label='Actual Price')\n",
        "  plt.title('Price Prediction')\n",
        "  plt.xlabel('Dates')\n",
        "  plt.ylabel('Prices')\n",
        "  plt.legend()\n",
        "  return predictions,rmse"
      ],
      "execution_count": null,
      "outputs": []
    },
    {
      "cell_type": "code",
      "metadata": {
        "id": "61qQSZzIl1zW",
        "colab_type": "code",
        "colab": {}
      },
      "source": [
        "from sklearn import metrics\n",
        "def armodel(train_data,test_data): \n",
        "  plt.figure(figsize=(12,7))\n",
        "  model = auto_arima(train, trace=True, error_action='ignore', suppress_warnings=True)\n",
        "  model.fit(train_data)\n",
        "  forecast = model.predict(n_periods=len(test_data))\n",
        "  forecast = pd.DataFrame(forecast,index = test_data.index,columns=['Prediction'])  \n",
        "  mse=metrics.mean_squared_error(test_data,forecast)\n",
        "  rmse8=np.sqrt(mse)\n",
        "  print('RMSE '+ str(rmse8))\n",
        "  plt.plot(train_data, 'green', color='blue', label='Training Data')\n",
        "  plt.plot(test_data.index, forecast, marker='o', linestyle='dashed', \n",
        "          label='Predicted Price')\n",
        "  plt.plot(test_data.index, test_data, color='red', label='Actual Price')\n",
        "  plt.title('Price Prediction')\n",
        "  plt.xlabel('Dates')\n",
        "  plt.ylabel('Prices')\n",
        "  plt.legend()\n",
        "  return rmse8"
      ],
      "execution_count": null,
      "outputs": []
    },
    {
      "cell_type": "code",
      "metadata": {
        "id": "pLJhJqCTdgCv",
        "colab_type": "code",
        "colab": {
          "base_uri": "https://localhost:8080/",
          "height": 673
        },
        "outputId": "b3a6d292-681d-4f7e-c70d-d7efc80f09e9"
      },
      "source": [
        "armodel(train,test)"
      ],
      "execution_count": null,
      "outputs": [
        {
          "output_type": "stream",
          "text": [
            "Fit ARIMA: order=(2, 1, 2) seasonal_order=(0, 0, 0, 1); AIC=-5923.264, BIC=-5894.483, Fit time=1.640 seconds\n",
            "Fit ARIMA: order=(0, 1, 0) seasonal_order=(0, 0, 0, 1); AIC=-5921.365, BIC=-5911.771, Fit time=0.157 seconds\n",
            "Fit ARIMA: order=(1, 1, 0) seasonal_order=(0, 0, 0, 1); AIC=-5920.436, BIC=-5906.045, Fit time=0.164 seconds\n",
            "Fit ARIMA: order=(0, 1, 1) seasonal_order=(0, 0, 0, 1); AIC=-5920.466, BIC=-5906.076, Fit time=0.250 seconds\n",
            "Fit ARIMA: order=(1, 1, 2) seasonal_order=(0, 0, 0, 1); AIC=-5916.673, BIC=-5892.688, Fit time=0.389 seconds\n",
            "Fit ARIMA: order=(3, 1, 2) seasonal_order=(0, 0, 0, 1); AIC=-5920.081, BIC=-5886.503, Fit time=1.571 seconds\n",
            "Fit ARIMA: order=(2, 1, 1) seasonal_order=(0, 0, 0, 1); AIC=-5916.709, BIC=-5892.725, Fit time=1.272 seconds\n",
            "Fit ARIMA: order=(2, 1, 3) seasonal_order=(0, 0, 0, 1); AIC=-5919.625, BIC=-5886.047, Fit time=0.835 seconds\n",
            "Fit ARIMA: order=(1, 1, 1) seasonal_order=(0, 0, 0, 1); AIC=-5917.504, BIC=-5898.317, Fit time=1.285 seconds\n",
            "Fit ARIMA: order=(3, 1, 3) seasonal_order=(0, 0, 0, 1); AIC=-5921.840, BIC=-5883.465, Fit time=0.812 seconds\n",
            "Total fit time: 8.385 seconds\n",
            "RMSE 0.26910806889308825\n"
          ],
          "name": "stdout"
        },
        {
          "output_type": "execute_result",
          "data": {
            "text/plain": [
              "0.26910806889308825"
            ]
          },
          "metadata": {
            "tags": []
          },
          "execution_count": 122
        },
        {
          "output_type": "display_data",
          "data": {
            "image/png": "[encoded data removed]",
            "text/plain": [
              "<Figure size 864x504 with 1 Axes>"
            ]
          },
          "metadata": {
            "tags": [],
            "needs_background": "light"
          }
        }
      ]
    },
    {
      "cell_type": "code",
      "metadata": {
        "id": "wQmFe_aOkMuc",
        "colab_type": "code",
        "colab": {
          "base_uri": "https://localhost:8080/",
          "height": 166
        },
        "outputId": "ff58e9b5-d94e-4f20-bae3-00c8a998affa"
      },
      "source": [
        ""
      ],
      "execution_count": null,
      "outputs": [
        {
          "output_type": "error",
          "ename": "NameError",
          "evalue": "ignored",
          "traceback": [
            "\u001b[0;31m---------------------------------------------------------------------------\u001b[0m",
            "\u001b[0;31mNameError\u001b[0m                                 Traceback (most recent call last)",
            "\u001b[0;32m<ipython-input-93-1f8a688cae5d>\u001b[0m in \u001b[0;36m<module>\u001b[0;34m()\u001b[0m\n\u001b[0;32m----> 1\u001b[0;31m \u001b[0mmodel\u001b[0m\u001b[0;34m\u001b[0m\u001b[0;34m\u001b[0m\u001b[0m\n\u001b[0m",
            "\u001b[0;31mNameError\u001b[0m: name 'model' is not defined"
          ]
        }
      ]
    },
    {
      "cell_type": "markdown",
      "metadata": {
        "id": "Vrd1fCiDBvyc",
        "colab_type": "text"
      },
      "source": [
        "# COMPARING MODELS"
      ]
    },
    {
      "cell_type": "code",
      "metadata": {
        "id": "k26dQCAqWN0y",
        "colab_type": "code",
        "colab": {}
      },
      "source": [
        "def compare(rmse1,rmse2,rmse3,rmse4,rmse5,rmse6,rmse7):\n",
        "  rmse=pd.DataFrame()\n",
        "  rmse['Model']=['LINEAR REGRESSION','LOGISTIC REGRESSION','LASSO REGRESSION','ELASTIC NET REGRESSION','DECISION TREE','KNN MODEL','SVR MODEL']\n",
        "  rmse['RMSE']=[rmse1,rmse2,rmse3,rmse4,rmse5,rmse6,rmse7]\n",
        "  l=np.min(rmse[\"RMSE\"])\n",
        "  for i in range(len(rmse)):\n",
        "      if l==rmse.iloc[i]['RMSE']:\n",
        "        return (\"BEST MODEL IS \"+rmse.iloc[i][\"Model\"]+\" with RMSE:\"+str(l))"
      ],
      "execution_count": null,
      "outputs": []
    }
  ]
}